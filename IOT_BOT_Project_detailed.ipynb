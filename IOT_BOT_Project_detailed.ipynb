{
 "cells": [
  {
   "cell_type": "markdown",
   "metadata": {},
   "source": [
    "### Importing Libraries"
   ]
  },
  {
   "cell_type": "code",
   "execution_count": 1,
   "metadata": {},
   "outputs": [],
   "source": [
    "import pandas as pd\n",
    "import numpy as np\n",
    "import seaborn as sns\n",
    "sns.set_style('darkgrid')\n",
    "import sklearn\n",
    "import warnings; warnings.simplefilter('ignore')\n",
    "from sklearn.preprocessing import StandardScaler\n",
    "import matplotlib.pyplot as plt\n",
    "%matplotlib inline"
   ]
  },
  {
   "cell_type": "markdown",
   "metadata": {},
   "source": [
    "### Importing the dataset"
   ]
  },
  {
   "cell_type": "code",
   "execution_count": 2,
   "metadata": {},
   "outputs": [],
   "source": [
    "data_train = pd.read_csv('UNSW_2018_IoT_Botnet_Final_10_best_Training.csv')\n",
    "data_test = pd.read_csv('UNSW_2018_IoT_Botnet_Final_10_best_Testing.csv')"
   ]
  },
  {
   "cell_type": "code",
   "execution_count": 3,
   "metadata": {},
   "outputs": [
    {
     "data": {
      "text/html": [
       "<div>\n",
       "<style scoped>\n",
       "    .dataframe tbody tr th:only-of-type {\n",
       "        vertical-align: middle;\n",
       "    }\n",
       "\n",
       "    .dataframe tbody tr th {\n",
       "        vertical-align: top;\n",
       "    }\n",
       "\n",
       "    .dataframe thead th {\n",
       "        text-align: right;\n",
       "    }\n",
       "</style>\n",
       "<table border=\"1\" class=\"dataframe\">\n",
       "  <thead>\n",
       "    <tr style=\"text-align: right;\">\n",
       "      <th></th>\n",
       "      <th>pkSeqID</th>\n",
       "      <th>proto</th>\n",
       "      <th>saddr</th>\n",
       "      <th>sport</th>\n",
       "      <th>daddr</th>\n",
       "      <th>dport</th>\n",
       "      <th>seq</th>\n",
       "      <th>stddev</th>\n",
       "      <th>N_IN_Conn_P_SrcIP</th>\n",
       "      <th>min</th>\n",
       "      <th>state_number</th>\n",
       "      <th>mean</th>\n",
       "      <th>N_IN_Conn_P_DstIP</th>\n",
       "      <th>drate</th>\n",
       "      <th>srate</th>\n",
       "      <th>max</th>\n",
       "      <th>attack</th>\n",
       "      <th>category</th>\n",
       "      <th>subcategory</th>\n",
       "    </tr>\n",
       "  </thead>\n",
       "  <tbody>\n",
       "    <tr>\n",
       "      <th>0</th>\n",
       "      <td>3142762</td>\n",
       "      <td>udp</td>\n",
       "      <td>192.168.100.150</td>\n",
       "      <td>6551</td>\n",
       "      <td>192.168.100.3</td>\n",
       "      <td>80</td>\n",
       "      <td>251984</td>\n",
       "      <td>1.900363</td>\n",
       "      <td>100</td>\n",
       "      <td>0.000000</td>\n",
       "      <td>4</td>\n",
       "      <td>2.687519</td>\n",
       "      <td>100</td>\n",
       "      <td>0.0</td>\n",
       "      <td>0.494549</td>\n",
       "      <td>4.031619</td>\n",
       "      <td>1</td>\n",
       "      <td>DDoS</td>\n",
       "      <td>UDP</td>\n",
       "    </tr>\n",
       "    <tr>\n",
       "      <th>1</th>\n",
       "      <td>2432264</td>\n",
       "      <td>tcp</td>\n",
       "      <td>192.168.100.150</td>\n",
       "      <td>5532</td>\n",
       "      <td>192.168.100.3</td>\n",
       "      <td>80</td>\n",
       "      <td>256724</td>\n",
       "      <td>0.078003</td>\n",
       "      <td>38</td>\n",
       "      <td>3.856930</td>\n",
       "      <td>3</td>\n",
       "      <td>3.934927</td>\n",
       "      <td>100</td>\n",
       "      <td>0.0</td>\n",
       "      <td>0.256493</td>\n",
       "      <td>4.012924</td>\n",
       "      <td>1</td>\n",
       "      <td>DDoS</td>\n",
       "      <td>TCP</td>\n",
       "    </tr>\n",
       "    <tr>\n",
       "      <th>2</th>\n",
       "      <td>1976315</td>\n",
       "      <td>tcp</td>\n",
       "      <td>192.168.100.147</td>\n",
       "      <td>27165</td>\n",
       "      <td>192.168.100.3</td>\n",
       "      <td>80</td>\n",
       "      <td>62921</td>\n",
       "      <td>0.268666</td>\n",
       "      <td>100</td>\n",
       "      <td>2.974100</td>\n",
       "      <td>3</td>\n",
       "      <td>3.341429</td>\n",
       "      <td>100</td>\n",
       "      <td>0.0</td>\n",
       "      <td>0.294880</td>\n",
       "      <td>3.609205</td>\n",
       "      <td>1</td>\n",
       "      <td>DDoS</td>\n",
       "      <td>TCP</td>\n",
       "    </tr>\n",
       "    <tr>\n",
       "      <th>3</th>\n",
       "      <td>1240757</td>\n",
       "      <td>udp</td>\n",
       "      <td>192.168.100.150</td>\n",
       "      <td>48719</td>\n",
       "      <td>192.168.100.3</td>\n",
       "      <td>80</td>\n",
       "      <td>99168</td>\n",
       "      <td>1.823185</td>\n",
       "      <td>63</td>\n",
       "      <td>0.000000</td>\n",
       "      <td>4</td>\n",
       "      <td>3.222832</td>\n",
       "      <td>63</td>\n",
       "      <td>0.0</td>\n",
       "      <td>0.461435</td>\n",
       "      <td>4.942302</td>\n",
       "      <td>1</td>\n",
       "      <td>DoS</td>\n",
       "      <td>UDP</td>\n",
       "    </tr>\n",
       "    <tr>\n",
       "      <th>4</th>\n",
       "      <td>3257991</td>\n",
       "      <td>udp</td>\n",
       "      <td>192.168.100.147</td>\n",
       "      <td>22461</td>\n",
       "      <td>192.168.100.3</td>\n",
       "      <td>80</td>\n",
       "      <td>105063</td>\n",
       "      <td>0.822418</td>\n",
       "      <td>100</td>\n",
       "      <td>2.979995</td>\n",
       "      <td>4</td>\n",
       "      <td>3.983222</td>\n",
       "      <td>100</td>\n",
       "      <td>0.0</td>\n",
       "      <td>1.002999</td>\n",
       "      <td>4.994452</td>\n",
       "      <td>1</td>\n",
       "      <td>DDoS</td>\n",
       "      <td>UDP</td>\n",
       "    </tr>\n",
       "  </tbody>\n",
       "</table>\n",
       "</div>"
      ],
      "text/plain": [
       "   pkSeqID proto            saddr  sport          daddr dport     seq  \\\n",
       "0  3142762   udp  192.168.100.150   6551  192.168.100.3    80  251984   \n",
       "1  2432264   tcp  192.168.100.150   5532  192.168.100.3    80  256724   \n",
       "2  1976315   tcp  192.168.100.147  27165  192.168.100.3    80   62921   \n",
       "3  1240757   udp  192.168.100.150  48719  192.168.100.3    80   99168   \n",
       "4  3257991   udp  192.168.100.147  22461  192.168.100.3    80  105063   \n",
       "\n",
       "     stddev  N_IN_Conn_P_SrcIP       min  state_number      mean  \\\n",
       "0  1.900363                100  0.000000             4  2.687519   \n",
       "1  0.078003                 38  3.856930             3  3.934927   \n",
       "2  0.268666                100  2.974100             3  3.341429   \n",
       "3  1.823185                 63  0.000000             4  3.222832   \n",
       "4  0.822418                100  2.979995             4  3.983222   \n",
       "\n",
       "   N_IN_Conn_P_DstIP  drate     srate       max  attack category subcategory  \n",
       "0                100    0.0  0.494549  4.031619       1     DDoS         UDP  \n",
       "1                100    0.0  0.256493  4.012924       1     DDoS         TCP  \n",
       "2                100    0.0  0.294880  3.609205       1     DDoS         TCP  \n",
       "3                 63    0.0  0.461435  4.942302       1      DoS         UDP  \n",
       "4                100    0.0  1.002999  4.994452       1     DDoS         UDP  "
      ]
     },
     "execution_count": 3,
     "metadata": {},
     "output_type": "execute_result"
    }
   ],
   "source": [
    "data_train.head()"
   ]
  },
  {
   "cell_type": "code",
   "execution_count": 4,
   "metadata": {},
   "outputs": [
    {
     "name": "stdout",
     "output_type": "stream",
     "text": [
      "<class 'pandas.core.frame.DataFrame'>\n",
      "RangeIndex: 2934817 entries, 0 to 2934816\n",
      "Data columns (total 19 columns):\n",
      " #   Column             Dtype  \n",
      "---  ------             -----  \n",
      " 0   pkSeqID            int64  \n",
      " 1   proto              object \n",
      " 2   saddr              object \n",
      " 3   sport              object \n",
      " 4   daddr              object \n",
      " 5   dport              object \n",
      " 6   seq                int64  \n",
      " 7   stddev             float64\n",
      " 8   N_IN_Conn_P_SrcIP  int64  \n",
      " 9   min                float64\n",
      " 10  state_number       int64  \n",
      " 11  mean               float64\n",
      " 12  N_IN_Conn_P_DstIP  int64  \n",
      " 13  drate              float64\n",
      " 14  srate              float64\n",
      " 15  max                float64\n",
      " 16  attack             int64  \n",
      " 17  category           object \n",
      " 18  subcategory        object \n",
      "dtypes: float64(6), int64(6), object(7)\n",
      "memory usage: 425.4+ MB\n"
     ]
    }
   ],
   "source": [
    "data_train.info()"
   ]
  },
  {
   "cell_type": "code",
   "execution_count": 5,
   "metadata": {},
   "outputs": [
    {
     "data": {
      "text/plain": [
       "proto          object\n",
       "saddr          object\n",
       "sport          object\n",
       "daddr          object\n",
       "dport          object\n",
       "category       object\n",
       "subcategory    object\n",
       "dtype: object"
      ]
     },
     "execution_count": 5,
     "metadata": {},
     "output_type": "execute_result"
    }
   ],
   "source": [
    "data_train.dtypes[data_train.dtypes=='object']"
   ]
  },
  {
   "cell_type": "code",
   "execution_count": 6,
   "metadata": {},
   "outputs": [
    {
     "data": {
      "text/plain": [
       "DDoS              1541315\n",
       "DoS               1320148\n",
       "Reconnaissance      72919\n",
       "Normal                370\n",
       "Theft                  65\n",
       "Name: category, dtype: int64"
      ]
     },
     "execution_count": 6,
     "metadata": {},
     "output_type": "execute_result"
    }
   ],
   "source": [
    "data_train['category'].value_counts()"
   ]
  },
  {
   "cell_type": "code",
   "execution_count": 7,
   "metadata": {},
   "outputs": [
    {
     "data": {
      "text/html": [
       "<div>\n",
       "<style scoped>\n",
       "    .dataframe tbody tr th:only-of-type {\n",
       "        vertical-align: middle;\n",
       "    }\n",
       "\n",
       "    .dataframe tbody tr th {\n",
       "        vertical-align: top;\n",
       "    }\n",
       "\n",
       "    .dataframe thead th {\n",
       "        text-align: right;\n",
       "    }\n",
       "</style>\n",
       "<table border=\"1\" class=\"dataframe\">\n",
       "  <thead>\n",
       "    <tr style=\"text-align: right;\">\n",
       "      <th></th>\n",
       "      <th></th>\n",
       "      <th>pkSeqID</th>\n",
       "      <th>proto</th>\n",
       "      <th>saddr</th>\n",
       "      <th>sport</th>\n",
       "      <th>daddr</th>\n",
       "      <th>dport</th>\n",
       "      <th>seq</th>\n",
       "      <th>stddev</th>\n",
       "      <th>N_IN_Conn_P_SrcIP</th>\n",
       "      <th>min</th>\n",
       "      <th>state_number</th>\n",
       "      <th>mean</th>\n",
       "      <th>N_IN_Conn_P_DstIP</th>\n",
       "      <th>drate</th>\n",
       "      <th>srate</th>\n",
       "      <th>max</th>\n",
       "      <th>attack</th>\n",
       "    </tr>\n",
       "    <tr>\n",
       "      <th>category</th>\n",
       "      <th>subcategory</th>\n",
       "      <th></th>\n",
       "      <th></th>\n",
       "      <th></th>\n",
       "      <th></th>\n",
       "      <th></th>\n",
       "      <th></th>\n",
       "      <th></th>\n",
       "      <th></th>\n",
       "      <th></th>\n",
       "      <th></th>\n",
       "      <th></th>\n",
       "      <th></th>\n",
       "      <th></th>\n",
       "      <th></th>\n",
       "      <th></th>\n",
       "      <th></th>\n",
       "      <th></th>\n",
       "    </tr>\n",
       "  </thead>\n",
       "  <tbody>\n",
       "    <tr>\n",
       "      <th rowspan=\"3\" valign=\"top\">DDoS</th>\n",
       "      <th>HTTP</th>\n",
       "      <td>786</td>\n",
       "      <td>786</td>\n",
       "      <td>786</td>\n",
       "      <td>786</td>\n",
       "      <td>786</td>\n",
       "      <td>786</td>\n",
       "      <td>786</td>\n",
       "      <td>786</td>\n",
       "      <td>786</td>\n",
       "      <td>786</td>\n",
       "      <td>786</td>\n",
       "      <td>786</td>\n",
       "      <td>786</td>\n",
       "      <td>786</td>\n",
       "      <td>786</td>\n",
       "      <td>786</td>\n",
       "      <td>786</td>\n",
       "    </tr>\n",
       "    <tr>\n",
       "      <th>TCP</th>\n",
       "      <td>782228</td>\n",
       "      <td>782228</td>\n",
       "      <td>782228</td>\n",
       "      <td>782228</td>\n",
       "      <td>782228</td>\n",
       "      <td>782228</td>\n",
       "      <td>782228</td>\n",
       "      <td>782228</td>\n",
       "      <td>782228</td>\n",
       "      <td>782228</td>\n",
       "      <td>782228</td>\n",
       "      <td>782228</td>\n",
       "      <td>782228</td>\n",
       "      <td>782228</td>\n",
       "      <td>782228</td>\n",
       "      <td>782228</td>\n",
       "      <td>782228</td>\n",
       "    </tr>\n",
       "    <tr>\n",
       "      <th>UDP</th>\n",
       "      <td>758301</td>\n",
       "      <td>758301</td>\n",
       "      <td>758301</td>\n",
       "      <td>758301</td>\n",
       "      <td>758301</td>\n",
       "      <td>758301</td>\n",
       "      <td>758301</td>\n",
       "      <td>758301</td>\n",
       "      <td>758301</td>\n",
       "      <td>758301</td>\n",
       "      <td>758301</td>\n",
       "      <td>758301</td>\n",
       "      <td>758301</td>\n",
       "      <td>758301</td>\n",
       "      <td>758301</td>\n",
       "      <td>758301</td>\n",
       "      <td>758301</td>\n",
       "    </tr>\n",
       "    <tr>\n",
       "      <th rowspan=\"3\" valign=\"top\">DoS</th>\n",
       "      <th>HTTP</th>\n",
       "      <td>1184</td>\n",
       "      <td>1184</td>\n",
       "      <td>1184</td>\n",
       "      <td>1184</td>\n",
       "      <td>1184</td>\n",
       "      <td>1184</td>\n",
       "      <td>1184</td>\n",
       "      <td>1184</td>\n",
       "      <td>1184</td>\n",
       "      <td>1184</td>\n",
       "      <td>1184</td>\n",
       "      <td>1184</td>\n",
       "      <td>1184</td>\n",
       "      <td>1184</td>\n",
       "      <td>1184</td>\n",
       "      <td>1184</td>\n",
       "      <td>1184</td>\n",
       "    </tr>\n",
       "    <tr>\n",
       "      <th>TCP</th>\n",
       "      <td>492615</td>\n",
       "      <td>492615</td>\n",
       "      <td>492615</td>\n",
       "      <td>492615</td>\n",
       "      <td>492615</td>\n",
       "      <td>492615</td>\n",
       "      <td>492615</td>\n",
       "      <td>492615</td>\n",
       "      <td>492615</td>\n",
       "      <td>492615</td>\n",
       "      <td>492615</td>\n",
       "      <td>492615</td>\n",
       "      <td>492615</td>\n",
       "      <td>492615</td>\n",
       "      <td>492615</td>\n",
       "      <td>492615</td>\n",
       "      <td>492615</td>\n",
       "    </tr>\n",
       "    <tr>\n",
       "      <th>UDP</th>\n",
       "      <td>826349</td>\n",
       "      <td>826349</td>\n",
       "      <td>826349</td>\n",
       "      <td>826349</td>\n",
       "      <td>826349</td>\n",
       "      <td>826349</td>\n",
       "      <td>826349</td>\n",
       "      <td>826349</td>\n",
       "      <td>826349</td>\n",
       "      <td>826349</td>\n",
       "      <td>826349</td>\n",
       "      <td>826349</td>\n",
       "      <td>826349</td>\n",
       "      <td>826349</td>\n",
       "      <td>826349</td>\n",
       "      <td>826349</td>\n",
       "      <td>826349</td>\n",
       "    </tr>\n",
       "    <tr>\n",
       "      <th>Normal</th>\n",
       "      <th>Normal</th>\n",
       "      <td>370</td>\n",
       "      <td>370</td>\n",
       "      <td>370</td>\n",
       "      <td>370</td>\n",
       "      <td>370</td>\n",
       "      <td>370</td>\n",
       "      <td>370</td>\n",
       "      <td>370</td>\n",
       "      <td>370</td>\n",
       "      <td>370</td>\n",
       "      <td>370</td>\n",
       "      <td>370</td>\n",
       "      <td>370</td>\n",
       "      <td>370</td>\n",
       "      <td>370</td>\n",
       "      <td>370</td>\n",
       "      <td>370</td>\n",
       "    </tr>\n",
       "    <tr>\n",
       "      <th rowspan=\"2\" valign=\"top\">Reconnaissance</th>\n",
       "      <th>OS_Fingerprint</th>\n",
       "      <td>14293</td>\n",
       "      <td>14293</td>\n",
       "      <td>14293</td>\n",
       "      <td>14293</td>\n",
       "      <td>14293</td>\n",
       "      <td>14293</td>\n",
       "      <td>14293</td>\n",
       "      <td>14293</td>\n",
       "      <td>14293</td>\n",
       "      <td>14293</td>\n",
       "      <td>14293</td>\n",
       "      <td>14293</td>\n",
       "      <td>14293</td>\n",
       "      <td>14293</td>\n",
       "      <td>14293</td>\n",
       "      <td>14293</td>\n",
       "      <td>14293</td>\n",
       "    </tr>\n",
       "    <tr>\n",
       "      <th>Service_Scan</th>\n",
       "      <td>58626</td>\n",
       "      <td>58626</td>\n",
       "      <td>58626</td>\n",
       "      <td>58626</td>\n",
       "      <td>58626</td>\n",
       "      <td>58626</td>\n",
       "      <td>58626</td>\n",
       "      <td>58626</td>\n",
       "      <td>58626</td>\n",
       "      <td>58626</td>\n",
       "      <td>58626</td>\n",
       "      <td>58626</td>\n",
       "      <td>58626</td>\n",
       "      <td>58626</td>\n",
       "      <td>58626</td>\n",
       "      <td>58626</td>\n",
       "      <td>58626</td>\n",
       "    </tr>\n",
       "    <tr>\n",
       "      <th rowspan=\"2\" valign=\"top\">Theft</th>\n",
       "      <th>Data_Exfiltration</th>\n",
       "      <td>6</td>\n",
       "      <td>6</td>\n",
       "      <td>6</td>\n",
       "      <td>6</td>\n",
       "      <td>6</td>\n",
       "      <td>6</td>\n",
       "      <td>6</td>\n",
       "      <td>6</td>\n",
       "      <td>6</td>\n",
       "      <td>6</td>\n",
       "      <td>6</td>\n",
       "      <td>6</td>\n",
       "      <td>6</td>\n",
       "      <td>6</td>\n",
       "      <td>6</td>\n",
       "      <td>6</td>\n",
       "      <td>6</td>\n",
       "    </tr>\n",
       "    <tr>\n",
       "      <th>Keylogging</th>\n",
       "      <td>59</td>\n",
       "      <td>59</td>\n",
       "      <td>59</td>\n",
       "      <td>59</td>\n",
       "      <td>59</td>\n",
       "      <td>59</td>\n",
       "      <td>59</td>\n",
       "      <td>59</td>\n",
       "      <td>59</td>\n",
       "      <td>59</td>\n",
       "      <td>59</td>\n",
       "      <td>59</td>\n",
       "      <td>59</td>\n",
       "      <td>59</td>\n",
       "      <td>59</td>\n",
       "      <td>59</td>\n",
       "      <td>59</td>\n",
       "    </tr>\n",
       "  </tbody>\n",
       "</table>\n",
       "</div>"
      ],
      "text/plain": [
       "                                  pkSeqID   proto   saddr   sport   daddr  \\\n",
       "category       subcategory                                                  \n",
       "DDoS           HTTP                   786     786     786     786     786   \n",
       "               TCP                 782228  782228  782228  782228  782228   \n",
       "               UDP                 758301  758301  758301  758301  758301   \n",
       "DoS            HTTP                  1184    1184    1184    1184    1184   \n",
       "               TCP                 492615  492615  492615  492615  492615   \n",
       "               UDP                 826349  826349  826349  826349  826349   \n",
       "Normal         Normal                 370     370     370     370     370   \n",
       "Reconnaissance OS_Fingerprint       14293   14293   14293   14293   14293   \n",
       "               Service_Scan         58626   58626   58626   58626   58626   \n",
       "Theft          Data_Exfiltration        6       6       6       6       6   \n",
       "               Keylogging              59      59      59      59      59   \n",
       "\n",
       "                                   dport     seq  stddev  N_IN_Conn_P_SrcIP  \\\n",
       "category       subcategory                                                    \n",
       "DDoS           HTTP                  786     786     786                786   \n",
       "               TCP                782228  782228  782228             782228   \n",
       "               UDP                758301  758301  758301             758301   \n",
       "DoS            HTTP                 1184    1184    1184               1184   \n",
       "               TCP                492615  492615  492615             492615   \n",
       "               UDP                826349  826349  826349             826349   \n",
       "Normal         Normal                370     370     370                370   \n",
       "Reconnaissance OS_Fingerprint      14293   14293   14293              14293   \n",
       "               Service_Scan        58626   58626   58626              58626   \n",
       "Theft          Data_Exfiltration       6       6       6                  6   \n",
       "               Keylogging             59      59      59                 59   \n",
       "\n",
       "                                     min  state_number    mean  \\\n",
       "category       subcategory                                       \n",
       "DDoS           HTTP                  786           786     786   \n",
       "               TCP                782228        782228  782228   \n",
       "               UDP                758301        758301  758301   \n",
       "DoS            HTTP                 1184          1184    1184   \n",
       "               TCP                492615        492615  492615   \n",
       "               UDP                826349        826349  826349   \n",
       "Normal         Normal                370           370     370   \n",
       "Reconnaissance OS_Fingerprint      14293         14293   14293   \n",
       "               Service_Scan        58626         58626   58626   \n",
       "Theft          Data_Exfiltration       6             6       6   \n",
       "               Keylogging             59            59      59   \n",
       "\n",
       "                                  N_IN_Conn_P_DstIP   drate   srate     max  \\\n",
       "category       subcategory                                                    \n",
       "DDoS           HTTP                             786     786     786     786   \n",
       "               TCP                           782228  782228  782228  782228   \n",
       "               UDP                           758301  758301  758301  758301   \n",
       "DoS            HTTP                            1184    1184    1184    1184   \n",
       "               TCP                           492615  492615  492615  492615   \n",
       "               UDP                           826349  826349  826349  826349   \n",
       "Normal         Normal                           370     370     370     370   \n",
       "Reconnaissance OS_Fingerprint                 14293   14293   14293   14293   \n",
       "               Service_Scan                   58626   58626   58626   58626   \n",
       "Theft          Data_Exfiltration                  6       6       6       6   \n",
       "               Keylogging                        59      59      59      59   \n",
       "\n",
       "                                  attack  \n",
       "category       subcategory                \n",
       "DDoS           HTTP                  786  \n",
       "               TCP                782228  \n",
       "               UDP                758301  \n",
       "DoS            HTTP                 1184  \n",
       "               TCP                492615  \n",
       "               UDP                826349  \n",
       "Normal         Normal                370  \n",
       "Reconnaissance OS_Fingerprint      14293  \n",
       "               Service_Scan        58626  \n",
       "Theft          Data_Exfiltration       6  \n",
       "               Keylogging             59  "
      ]
     },
     "execution_count": 7,
     "metadata": {},
     "output_type": "execute_result"
    }
   ],
   "source": [
    "data_train.groupby(['category','subcategory']).count()"
   ]
  },
  {
   "cell_type": "code",
   "execution_count": 8,
   "metadata": {},
   "outputs": [
    {
     "data": {
      "text/plain": [
       "category        subcategory      \n",
       "DDoS            TCP                  782228\n",
       "                UDP                  758301\n",
       "                HTTP                    786\n",
       "DoS             UDP                  826349\n",
       "                TCP                  492615\n",
       "                HTTP                   1184\n",
       "Normal          Normal                  370\n",
       "Reconnaissance  Service_Scan          58626\n",
       "                OS_Fingerprint        14293\n",
       "Theft           Keylogging               59\n",
       "                Data_Exfiltration         6\n",
       "Name: subcategory, dtype: int64"
      ]
     },
     "execution_count": 8,
     "metadata": {},
     "output_type": "execute_result"
    }
   ],
   "source": [
    "data_train.groupby(['category'])['subcategory'].value_counts()"
   ]
  },
  {
   "cell_type": "code",
   "execution_count": 9,
   "metadata": {},
   "outputs": [
    {
     "data": {
      "text/html": [
       "<div>\n",
       "<style scoped>\n",
       "    .dataframe tbody tr th:only-of-type {\n",
       "        vertical-align: middle;\n",
       "    }\n",
       "\n",
       "    .dataframe tbody tr th {\n",
       "        vertical-align: top;\n",
       "    }\n",
       "\n",
       "    .dataframe thead th {\n",
       "        text-align: right;\n",
       "    }\n",
       "</style>\n",
       "<table border=\"1\" class=\"dataframe\">\n",
       "  <thead>\n",
       "    <tr style=\"text-align: right;\">\n",
       "      <th></th>\n",
       "      <th>pkSeqID</th>\n",
       "      <th>proto</th>\n",
       "      <th>saddr</th>\n",
       "      <th>sport</th>\n",
       "      <th>daddr</th>\n",
       "      <th>dport</th>\n",
       "      <th>seq</th>\n",
       "      <th>stddev</th>\n",
       "      <th>N_IN_Conn_P_SrcIP</th>\n",
       "      <th>min</th>\n",
       "      <th>state_number</th>\n",
       "      <th>mean</th>\n",
       "      <th>N_IN_Conn_P_DstIP</th>\n",
       "      <th>drate</th>\n",
       "      <th>srate</th>\n",
       "      <th>max</th>\n",
       "      <th>attack</th>\n",
       "      <th>category</th>\n",
       "      <th>subcategory</th>\n",
       "      <th>target</th>\n",
       "    </tr>\n",
       "  </thead>\n",
       "  <tbody>\n",
       "    <tr>\n",
       "      <th>0</th>\n",
       "      <td>3142762</td>\n",
       "      <td>udp</td>\n",
       "      <td>192.168.100.150</td>\n",
       "      <td>6551</td>\n",
       "      <td>192.168.100.3</td>\n",
       "      <td>80</td>\n",
       "      <td>251984</td>\n",
       "      <td>1.900363</td>\n",
       "      <td>100</td>\n",
       "      <td>0.000000</td>\n",
       "      <td>4</td>\n",
       "      <td>2.687519</td>\n",
       "      <td>100</td>\n",
       "      <td>0.0</td>\n",
       "      <td>0.494549</td>\n",
       "      <td>4.031619</td>\n",
       "      <td>1</td>\n",
       "      <td>DDoS</td>\n",
       "      <td>UDP</td>\n",
       "      <td>DDoS_UDP</td>\n",
       "    </tr>\n",
       "    <tr>\n",
       "      <th>1</th>\n",
       "      <td>2432264</td>\n",
       "      <td>tcp</td>\n",
       "      <td>192.168.100.150</td>\n",
       "      <td>5532</td>\n",
       "      <td>192.168.100.3</td>\n",
       "      <td>80</td>\n",
       "      <td>256724</td>\n",
       "      <td>0.078003</td>\n",
       "      <td>38</td>\n",
       "      <td>3.856930</td>\n",
       "      <td>3</td>\n",
       "      <td>3.934927</td>\n",
       "      <td>100</td>\n",
       "      <td>0.0</td>\n",
       "      <td>0.256493</td>\n",
       "      <td>4.012924</td>\n",
       "      <td>1</td>\n",
       "      <td>DDoS</td>\n",
       "      <td>TCP</td>\n",
       "      <td>DDoS_TCP</td>\n",
       "    </tr>\n",
       "    <tr>\n",
       "      <th>2</th>\n",
       "      <td>1976315</td>\n",
       "      <td>tcp</td>\n",
       "      <td>192.168.100.147</td>\n",
       "      <td>27165</td>\n",
       "      <td>192.168.100.3</td>\n",
       "      <td>80</td>\n",
       "      <td>62921</td>\n",
       "      <td>0.268666</td>\n",
       "      <td>100</td>\n",
       "      <td>2.974100</td>\n",
       "      <td>3</td>\n",
       "      <td>3.341429</td>\n",
       "      <td>100</td>\n",
       "      <td>0.0</td>\n",
       "      <td>0.294880</td>\n",
       "      <td>3.609205</td>\n",
       "      <td>1</td>\n",
       "      <td>DDoS</td>\n",
       "      <td>TCP</td>\n",
       "      <td>DDoS_TCP</td>\n",
       "    </tr>\n",
       "    <tr>\n",
       "      <th>3</th>\n",
       "      <td>1240757</td>\n",
       "      <td>udp</td>\n",
       "      <td>192.168.100.150</td>\n",
       "      <td>48719</td>\n",
       "      <td>192.168.100.3</td>\n",
       "      <td>80</td>\n",
       "      <td>99168</td>\n",
       "      <td>1.823185</td>\n",
       "      <td>63</td>\n",
       "      <td>0.000000</td>\n",
       "      <td>4</td>\n",
       "      <td>3.222832</td>\n",
       "      <td>63</td>\n",
       "      <td>0.0</td>\n",
       "      <td>0.461435</td>\n",
       "      <td>4.942302</td>\n",
       "      <td>1</td>\n",
       "      <td>DoS</td>\n",
       "      <td>UDP</td>\n",
       "      <td>DoS_UDP</td>\n",
       "    </tr>\n",
       "    <tr>\n",
       "      <th>4</th>\n",
       "      <td>3257991</td>\n",
       "      <td>udp</td>\n",
       "      <td>192.168.100.147</td>\n",
       "      <td>22461</td>\n",
       "      <td>192.168.100.3</td>\n",
       "      <td>80</td>\n",
       "      <td>105063</td>\n",
       "      <td>0.822418</td>\n",
       "      <td>100</td>\n",
       "      <td>2.979995</td>\n",
       "      <td>4</td>\n",
       "      <td>3.983222</td>\n",
       "      <td>100</td>\n",
       "      <td>0.0</td>\n",
       "      <td>1.002999</td>\n",
       "      <td>4.994452</td>\n",
       "      <td>1</td>\n",
       "      <td>DDoS</td>\n",
       "      <td>UDP</td>\n",
       "      <td>DDoS_UDP</td>\n",
       "    </tr>\n",
       "  </tbody>\n",
       "</table>\n",
       "</div>"
      ],
      "text/plain": [
       "   pkSeqID proto            saddr  sport          daddr dport     seq  \\\n",
       "0  3142762   udp  192.168.100.150   6551  192.168.100.3    80  251984   \n",
       "1  2432264   tcp  192.168.100.150   5532  192.168.100.3    80  256724   \n",
       "2  1976315   tcp  192.168.100.147  27165  192.168.100.3    80   62921   \n",
       "3  1240757   udp  192.168.100.150  48719  192.168.100.3    80   99168   \n",
       "4  3257991   udp  192.168.100.147  22461  192.168.100.3    80  105063   \n",
       "\n",
       "     stddev  N_IN_Conn_P_SrcIP       min  state_number      mean  \\\n",
       "0  1.900363                100  0.000000             4  2.687519   \n",
       "1  0.078003                 38  3.856930             3  3.934927   \n",
       "2  0.268666                100  2.974100             3  3.341429   \n",
       "3  1.823185                 63  0.000000             4  3.222832   \n",
       "4  0.822418                100  2.979995             4  3.983222   \n",
       "\n",
       "   N_IN_Conn_P_DstIP  drate     srate       max  attack category subcategory  \\\n",
       "0                100    0.0  0.494549  4.031619       1     DDoS         UDP   \n",
       "1                100    0.0  0.256493  4.012924       1     DDoS         TCP   \n",
       "2                100    0.0  0.294880  3.609205       1     DDoS         TCP   \n",
       "3                 63    0.0  0.461435  4.942302       1      DoS         UDP   \n",
       "4                100    0.0  1.002999  4.994452       1     DDoS         UDP   \n",
       "\n",
       "     target  \n",
       "0  DDoS_UDP  \n",
       "1  DDoS_TCP  \n",
       "2  DDoS_TCP  \n",
       "3   DoS_UDP  \n",
       "4  DDoS_UDP  "
      ]
     },
     "execution_count": 9,
     "metadata": {},
     "output_type": "execute_result"
    }
   ],
   "source": [
    "data_train['target'] = data_train['category'] + \"_\" + data_train['subcategory']\n",
    "data_train.head()"
   ]
  },
  {
   "cell_type": "code",
   "execution_count": 10,
   "metadata": {},
   "outputs": [
    {
     "data": {
      "text/plain": [
       "<matplotlib.axes._subplots.AxesSubplot at 0x260600d8730>"
      ]
     },
     "execution_count": 10,
     "metadata": {},
     "output_type": "execute_result"
    },
    {
     "data": {
      "image/png": "[encoded data removed]",
      "text/plain": [
       "<Figure size 720x360 with 1 Axes>"
      ]
     },
     "metadata": {
      "needs_background": "light"
     },
     "output_type": "display_data"
    }
   ],
   "source": [
    "plt.figure(figsize=(10,5))\n",
    "plt.xticks(rotation=90)\n",
    "sns.countplot(data_train['target'],palette='Accent')"
   ]
  },
  {
   "cell_type": "code",
   "execution_count": 11,
   "metadata": {},
   "outputs": [],
   "source": [
    "indexNames = data_train[data_train['category']=='Theft'].index\n",
    "data_train.drop(indexNames , inplace=True)"
   ]
  },
  {
   "cell_type": "code",
   "execution_count": 12,
   "metadata": {},
   "outputs": [],
   "source": [
    "indexNames = data_test[data_test['category']=='Theft'].index\n",
    "data_test.drop(indexNames , inplace=True)"
   ]
  },
  {
   "cell_type": "code",
   "execution_count": 13,
   "metadata": {},
   "outputs": [
    {
     "data": {
      "text/html": [
       "<div>\n",
       "<style scoped>\n",
       "    .dataframe tbody tr th:only-of-type {\n",
       "        vertical-align: middle;\n",
       "    }\n",
       "\n",
       "    .dataframe tbody tr th {\n",
       "        vertical-align: top;\n",
       "    }\n",
       "\n",
       "    .dataframe thead th {\n",
       "        text-align: right;\n",
       "    }\n",
       "</style>\n",
       "<table border=\"1\" class=\"dataframe\">\n",
       "  <thead>\n",
       "    <tr style=\"text-align: right;\">\n",
       "      <th></th>\n",
       "      <th>pkSeqID</th>\n",
       "      <th>proto</th>\n",
       "      <th>saddr</th>\n",
       "      <th>sport</th>\n",
       "      <th>daddr</th>\n",
       "      <th>dport</th>\n",
       "      <th>seq</th>\n",
       "      <th>stddev</th>\n",
       "      <th>N_IN_Conn_P_SrcIP</th>\n",
       "      <th>min</th>\n",
       "      <th>state_number</th>\n",
       "      <th>mean</th>\n",
       "      <th>N_IN_Conn_P_DstIP</th>\n",
       "      <th>drate</th>\n",
       "      <th>srate</th>\n",
       "      <th>max</th>\n",
       "      <th>attack</th>\n",
       "      <th>category</th>\n",
       "      <th>subcategory</th>\n",
       "      <th>target</th>\n",
       "    </tr>\n",
       "  </thead>\n",
       "  <tbody>\n",
       "    <tr>\n",
       "      <th>0</th>\n",
       "      <td>792371</td>\n",
       "      <td>udp</td>\n",
       "      <td>192.168.100.150</td>\n",
       "      <td>48516</td>\n",
       "      <td>192.168.100.3</td>\n",
       "      <td>80</td>\n",
       "      <td>175094</td>\n",
       "      <td>0.226784</td>\n",
       "      <td>100</td>\n",
       "      <td>4.100436</td>\n",
       "      <td>4</td>\n",
       "      <td>4.457383</td>\n",
       "      <td>100</td>\n",
       "      <td>0.000000</td>\n",
       "      <td>0.404711</td>\n",
       "      <td>4.719438</td>\n",
       "      <td>1</td>\n",
       "      <td>DoS</td>\n",
       "      <td>UDP</td>\n",
       "      <td>DoS_UDP</td>\n",
       "    </tr>\n",
       "    <tr>\n",
       "      <th>1</th>\n",
       "      <td>2056418</td>\n",
       "      <td>tcp</td>\n",
       "      <td>192.168.100.148</td>\n",
       "      <td>22267</td>\n",
       "      <td>192.168.100.3</td>\n",
       "      <td>80</td>\n",
       "      <td>143024</td>\n",
       "      <td>0.451998</td>\n",
       "      <td>100</td>\n",
       "      <td>3.439257</td>\n",
       "      <td>1</td>\n",
       "      <td>3.806172</td>\n",
       "      <td>100</td>\n",
       "      <td>0.225077</td>\n",
       "      <td>0.401397</td>\n",
       "      <td>4.442930</td>\n",
       "      <td>1</td>\n",
       "      <td>DDoS</td>\n",
       "      <td>TCP</td>\n",
       "      <td>DDoS_TCP</td>\n",
       "    </tr>\n",
       "    <tr>\n",
       "      <th>2</th>\n",
       "      <td>2795650</td>\n",
       "      <td>udp</td>\n",
       "      <td>192.168.100.149</td>\n",
       "      <td>28629</td>\n",
       "      <td>192.168.100.3</td>\n",
       "      <td>80</td>\n",
       "      <td>167033</td>\n",
       "      <td>1.931553</td>\n",
       "      <td>73</td>\n",
       "      <td>0.000000</td>\n",
       "      <td>4</td>\n",
       "      <td>2.731204</td>\n",
       "      <td>100</td>\n",
       "      <td>0.000000</td>\n",
       "      <td>0.407287</td>\n",
       "      <td>4.138455</td>\n",
       "      <td>1</td>\n",
       "      <td>DDoS</td>\n",
       "      <td>UDP</td>\n",
       "      <td>DDoS_UDP</td>\n",
       "    </tr>\n",
       "    <tr>\n",
       "      <th>3</th>\n",
       "      <td>2118009</td>\n",
       "      <td>tcp</td>\n",
       "      <td>192.168.100.148</td>\n",
       "      <td>42142</td>\n",
       "      <td>192.168.100.3</td>\n",
       "      <td>80</td>\n",
       "      <td>204615</td>\n",
       "      <td>0.428798</td>\n",
       "      <td>56</td>\n",
       "      <td>3.271411</td>\n",
       "      <td>1</td>\n",
       "      <td>3.626428</td>\n",
       "      <td>100</td>\n",
       "      <td>0.000000</td>\n",
       "      <td>0.343654</td>\n",
       "      <td>4.229700</td>\n",
       "      <td>1</td>\n",
       "      <td>DDoS</td>\n",
       "      <td>TCP</td>\n",
       "      <td>DDoS_TCP</td>\n",
       "    </tr>\n",
       "    <tr>\n",
       "      <th>4</th>\n",
       "      <td>303688</td>\n",
       "      <td>tcp</td>\n",
       "      <td>192.168.100.149</td>\n",
       "      <td>1645</td>\n",
       "      <td>192.168.100.5</td>\n",
       "      <td>80</td>\n",
       "      <td>40058</td>\n",
       "      <td>2.058381</td>\n",
       "      <td>100</td>\n",
       "      <td>0.000000</td>\n",
       "      <td>3</td>\n",
       "      <td>1.188407</td>\n",
       "      <td>100</td>\n",
       "      <td>0.000000</td>\n",
       "      <td>0.135842</td>\n",
       "      <td>4.753628</td>\n",
       "      <td>1</td>\n",
       "      <td>DoS</td>\n",
       "      <td>TCP</td>\n",
       "      <td>DoS_TCP</td>\n",
       "    </tr>\n",
       "  </tbody>\n",
       "</table>\n",
       "</div>"
      ],
      "text/plain": [
       "   pkSeqID proto            saddr  sport          daddr dport     seq  \\\n",
       "0   792371   udp  192.168.100.150  48516  192.168.100.3    80  175094   \n",
       "1  2056418   tcp  192.168.100.148  22267  192.168.100.3    80  143024   \n",
       "2  2795650   udp  192.168.100.149  28629  192.168.100.3    80  167033   \n",
       "3  2118009   tcp  192.168.100.148  42142  192.168.100.3    80  204615   \n",
       "4   303688   tcp  192.168.100.149   1645  192.168.100.5    80   40058   \n",
       "\n",
       "     stddev  N_IN_Conn_P_SrcIP       min  state_number      mean  \\\n",
       "0  0.226784                100  4.100436             4  4.457383   \n",
       "1  0.451998                100  3.439257             1  3.806172   \n",
       "2  1.931553                 73  0.000000             4  2.731204   \n",
       "3  0.428798                 56  3.271411             1  3.626428   \n",
       "4  2.058381                100  0.000000             3  1.188407   \n",
       "\n",
       "   N_IN_Conn_P_DstIP     drate     srate       max  attack category  \\\n",
       "0                100  0.000000  0.404711  4.719438       1      DoS   \n",
       "1                100  0.225077  0.401397  4.442930       1     DDoS   \n",
       "2                100  0.000000  0.407287  4.138455       1     DDoS   \n",
       "3                100  0.000000  0.343654  4.229700       1     DDoS   \n",
       "4                100  0.000000  0.135842  4.753628       1      DoS   \n",
       "\n",
       "  subcategory    target  \n",
       "0         UDP   DoS_UDP  \n",
       "1         TCP  DDoS_TCP  \n",
       "2         UDP  DDoS_UDP  \n",
       "3         TCP  DDoS_TCP  \n",
       "4         TCP   DoS_TCP  "
      ]
     },
     "execution_count": 13,
     "metadata": {},
     "output_type": "execute_result"
    }
   ],
   "source": [
    "data_test['target'] = data_test['category'] + \"_\" + data_test['subcategory']\n",
    "data_test.head()"
   ]
  },
  {
   "cell_type": "markdown",
   "metadata": {},
   "source": [
    "### Dropping unwanted attributes"
   ]
  },
  {
   "cell_type": "code",
   "execution_count": 14,
   "metadata": {},
   "outputs": [],
   "source": [
    "data_train.drop([\"pkSeqID\",\"seq\"], axis=1, inplace=True)\n",
    "data_test.drop([\"pkSeqID\",\"seq\"], axis=1, inplace=True)"
   ]
  },
  {
   "cell_type": "code",
   "execution_count": 15,
   "metadata": {},
   "outputs": [
    {
     "data": {
      "text/html": [
       "<div>\n",
       "<style scoped>\n",
       "    .dataframe tbody tr th:only-of-type {\n",
       "        vertical-align: middle;\n",
       "    }\n",
       "\n",
       "    .dataframe tbody tr th {\n",
       "        vertical-align: top;\n",
       "    }\n",
       "\n",
       "    .dataframe thead th {\n",
       "        text-align: right;\n",
       "    }\n",
       "</style>\n",
       "<table border=\"1\" class=\"dataframe\">\n",
       "  <thead>\n",
       "    <tr style=\"text-align: right;\">\n",
       "      <th></th>\n",
       "      <th>proto</th>\n",
       "      <th>saddr</th>\n",
       "      <th>sport</th>\n",
       "      <th>daddr</th>\n",
       "      <th>dport</th>\n",
       "      <th>stddev</th>\n",
       "      <th>N_IN_Conn_P_SrcIP</th>\n",
       "      <th>min</th>\n",
       "      <th>state_number</th>\n",
       "      <th>mean</th>\n",
       "      <th>N_IN_Conn_P_DstIP</th>\n",
       "      <th>drate</th>\n",
       "      <th>srate</th>\n",
       "      <th>max</th>\n",
       "      <th>attack</th>\n",
       "      <th>category</th>\n",
       "      <th>subcategory</th>\n",
       "      <th>target</th>\n",
       "    </tr>\n",
       "  </thead>\n",
       "  <tbody>\n",
       "    <tr>\n",
       "      <th>3377</th>\n",
       "      <td>tcp</td>\n",
       "      <td>192.168.100.5</td>\n",
       "      <td>0</td>\n",
       "      <td>192.168.100.3</td>\n",
       "      <td>0</td>\n",
       "      <td>0.235357</td>\n",
       "      <td>7</td>\n",
       "      <td>0.598172</td>\n",
       "      <td>2</td>\n",
       "      <td>4.898582</td>\n",
       "      <td>7</td>\n",
       "      <td>0.000000</td>\n",
       "      <td>10.932437</td>\n",
       "      <td>4.999866</td>\n",
       "      <td>0</td>\n",
       "      <td>Normal</td>\n",
       "      <td>Normal</td>\n",
       "      <td>Normal_Normal</td>\n",
       "    </tr>\n",
       "    <tr>\n",
       "      <th>7683</th>\n",
       "      <td>udp</td>\n",
       "      <td>192.168.100.150</td>\n",
       "      <td>46295</td>\n",
       "      <td>192.168.217.2</td>\n",
       "      <td>53</td>\n",
       "      <td>0.000000</td>\n",
       "      <td>11</td>\n",
       "      <td>0.000000</td>\n",
       "      <td>4</td>\n",
       "      <td>0.000000</td>\n",
       "      <td>20</td>\n",
       "      <td>0.000000</td>\n",
       "      <td>0.400001</td>\n",
       "      <td>0.000000</td>\n",
       "      <td>0</td>\n",
       "      <td>Normal</td>\n",
       "      <td>Normal</td>\n",
       "      <td>Normal_Normal</td>\n",
       "    </tr>\n",
       "    <tr>\n",
       "      <th>8844</th>\n",
       "      <td>tcp</td>\n",
       "      <td>192.168.100.3</td>\n",
       "      <td>80</td>\n",
       "      <td>192.168.100.55</td>\n",
       "      <td>8080</td>\n",
       "      <td>0.228494</td>\n",
       "      <td>20</td>\n",
       "      <td>0.768694</td>\n",
       "      <td>2</td>\n",
       "      <td>4.947914</td>\n",
       "      <td>2</td>\n",
       "      <td>17.633553</td>\n",
       "      <td>17.634146</td>\n",
       "      <td>4.999863</td>\n",
       "      <td>0</td>\n",
       "      <td>Normal</td>\n",
       "      <td>Normal</td>\n",
       "      <td>Normal_Normal</td>\n",
       "    </tr>\n",
       "    <tr>\n",
       "      <th>10110</th>\n",
       "      <td>udp</td>\n",
       "      <td>192.168.100.147</td>\n",
       "      <td>38275</td>\n",
       "      <td>192.168.217.2</td>\n",
       "      <td>53</td>\n",
       "      <td>0.000000</td>\n",
       "      <td>18</td>\n",
       "      <td>0.000000</td>\n",
       "      <td>4</td>\n",
       "      <td>0.000000</td>\n",
       "      <td>18</td>\n",
       "      <td>0.000000</td>\n",
       "      <td>0.399866</td>\n",
       "      <td>0.000000</td>\n",
       "      <td>0</td>\n",
       "      <td>Normal</td>\n",
       "      <td>Normal</td>\n",
       "      <td>Normal_Normal</td>\n",
       "    </tr>\n",
       "    <tr>\n",
       "      <th>16479</th>\n",
       "      <td>udp</td>\n",
       "      <td>192.168.100.150</td>\n",
       "      <td>56155</td>\n",
       "      <td>255.255.255.255</td>\n",
       "      <td>3289</td>\n",
       "      <td>0.000000</td>\n",
       "      <td>14</td>\n",
       "      <td>0.000000</td>\n",
       "      <td>4</td>\n",
       "      <td>0.000000</td>\n",
       "      <td>2</td>\n",
       "      <td>0.000000</td>\n",
       "      <td>0.000000</td>\n",
       "      <td>0.000000</td>\n",
       "      <td>0</td>\n",
       "      <td>Normal</td>\n",
       "      <td>Normal</td>\n",
       "      <td>Normal_Normal</td>\n",
       "    </tr>\n",
       "    <tr>\n",
       "      <th>...</th>\n",
       "      <td>...</td>\n",
       "      <td>...</td>\n",
       "      <td>...</td>\n",
       "      <td>...</td>\n",
       "      <td>...</td>\n",
       "      <td>...</td>\n",
       "      <td>...</td>\n",
       "      <td>...</td>\n",
       "      <td>...</td>\n",
       "      <td>...</td>\n",
       "      <td>...</td>\n",
       "      <td>...</td>\n",
       "      <td>...</td>\n",
       "      <td>...</td>\n",
       "      <td>...</td>\n",
       "      <td>...</td>\n",
       "      <td>...</td>\n",
       "      <td>...</td>\n",
       "    </tr>\n",
       "    <tr>\n",
       "      <th>2896922</th>\n",
       "      <td>udp</td>\n",
       "      <td>192.168.100.3</td>\n",
       "      <td>60946</td>\n",
       "      <td>192.31.80.30</td>\n",
       "      <td>53</td>\n",
       "      <td>0.000000</td>\n",
       "      <td>23</td>\n",
       "      <td>0.278547</td>\n",
       "      <td>2</td>\n",
       "      <td>0.278547</td>\n",
       "      <td>1</td>\n",
       "      <td>0.000000</td>\n",
       "      <td>0.000000</td>\n",
       "      <td>0.278547</td>\n",
       "      <td>0</td>\n",
       "      <td>Normal</td>\n",
       "      <td>Normal</td>\n",
       "      <td>Normal_Normal</td>\n",
       "    </tr>\n",
       "    <tr>\n",
       "      <th>2907572</th>\n",
       "      <td>ipv6-icmp</td>\n",
       "      <td>fe80::250:56ff:febe:c038</td>\n",
       "      <td>133</td>\n",
       "      <td>ff02::2</td>\n",
       "      <td>0</td>\n",
       "      <td>0.000000</td>\n",
       "      <td>1</td>\n",
       "      <td>0.000000</td>\n",
       "      <td>8</td>\n",
       "      <td>0.000000</td>\n",
       "      <td>3</td>\n",
       "      <td>0.000000</td>\n",
       "      <td>0.000000</td>\n",
       "      <td>0.000000</td>\n",
       "      <td>0</td>\n",
       "      <td>Normal</td>\n",
       "      <td>Normal</td>\n",
       "      <td>Normal_Normal</td>\n",
       "    </tr>\n",
       "    <tr>\n",
       "      <th>2912220</th>\n",
       "      <td>udp</td>\n",
       "      <td>192.168.100.4</td>\n",
       "      <td>60001</td>\n",
       "      <td>192.168.100.1</td>\n",
       "      <td>53</td>\n",
       "      <td>0.323125</td>\n",
       "      <td>7</td>\n",
       "      <td>0.000000</td>\n",
       "      <td>2</td>\n",
       "      <td>0.161776</td>\n",
       "      <td>4</td>\n",
       "      <td>0.555538</td>\n",
       "      <td>0.644334</td>\n",
       "      <td>0.808025</td>\n",
       "      <td>0</td>\n",
       "      <td>Normal</td>\n",
       "      <td>Normal</td>\n",
       "      <td>Normal_Normal</td>\n",
       "    </tr>\n",
       "    <tr>\n",
       "      <th>2917520</th>\n",
       "      <td>udp</td>\n",
       "      <td>192.168.100.148</td>\n",
       "      <td>41735</td>\n",
       "      <td>8.8.8.8</td>\n",
       "      <td>53</td>\n",
       "      <td>0.000000</td>\n",
       "      <td>20</td>\n",
       "      <td>0.007598</td>\n",
       "      <td>2</td>\n",
       "      <td>0.007598</td>\n",
       "      <td>15</td>\n",
       "      <td>0.000000</td>\n",
       "      <td>0.000000</td>\n",
       "      <td>0.007598</td>\n",
       "      <td>0</td>\n",
       "      <td>Normal</td>\n",
       "      <td>Normal</td>\n",
       "      <td>Normal_Normal</td>\n",
       "    </tr>\n",
       "    <tr>\n",
       "      <th>2932908</th>\n",
       "      <td>udp</td>\n",
       "      <td>192.168.100.147</td>\n",
       "      <td>57830</td>\n",
       "      <td>192.168.217.2</td>\n",
       "      <td>53</td>\n",
       "      <td>0.000000</td>\n",
       "      <td>12</td>\n",
       "      <td>0.000000</td>\n",
       "      <td>4</td>\n",
       "      <td>0.000000</td>\n",
       "      <td>8</td>\n",
       "      <td>0.000000</td>\n",
       "      <td>0.399842</td>\n",
       "      <td>0.000000</td>\n",
       "      <td>0</td>\n",
       "      <td>Normal</td>\n",
       "      <td>Normal</td>\n",
       "      <td>Normal_Normal</td>\n",
       "    </tr>\n",
       "  </tbody>\n",
       "</table>\n",
       "<p>370 rows × 18 columns</p>\n",
       "</div>"
      ],
      "text/plain": [
       "             proto                     saddr  sport            daddr dport  \\\n",
       "3377           tcp             192.168.100.5      0    192.168.100.3     0   \n",
       "7683           udp           192.168.100.150  46295    192.168.217.2    53   \n",
       "8844           tcp             192.168.100.3     80   192.168.100.55  8080   \n",
       "10110          udp           192.168.100.147  38275    192.168.217.2    53   \n",
       "16479          udp           192.168.100.150  56155  255.255.255.255  3289   \n",
       "...            ...                       ...    ...              ...   ...   \n",
       "2896922        udp             192.168.100.3  60946     192.31.80.30    53   \n",
       "2907572  ipv6-icmp  fe80::250:56ff:febe:c038    133          ff02::2     0   \n",
       "2912220        udp             192.168.100.4  60001    192.168.100.1    53   \n",
       "2917520        udp           192.168.100.148  41735          8.8.8.8    53   \n",
       "2932908        udp           192.168.100.147  57830    192.168.217.2    53   \n",
       "\n",
       "           stddev  N_IN_Conn_P_SrcIP       min  state_number      mean  \\\n",
       "3377     0.235357                  7  0.598172             2  4.898582   \n",
       "7683     0.000000                 11  0.000000             4  0.000000   \n",
       "8844     0.228494                 20  0.768694             2  4.947914   \n",
       "10110    0.000000                 18  0.000000             4  0.000000   \n",
       "16479    0.000000                 14  0.000000             4  0.000000   \n",
       "...           ...                ...       ...           ...       ...   \n",
       "2896922  0.000000                 23  0.278547             2  0.278547   \n",
       "2907572  0.000000                  1  0.000000             8  0.000000   \n",
       "2912220  0.323125                  7  0.000000             2  0.161776   \n",
       "2917520  0.000000                 20  0.007598             2  0.007598   \n",
       "2932908  0.000000                 12  0.000000             4  0.000000   \n",
       "\n",
       "         N_IN_Conn_P_DstIP      drate      srate       max  attack category  \\\n",
       "3377                     7   0.000000  10.932437  4.999866       0   Normal   \n",
       "7683                    20   0.000000   0.400001  0.000000       0   Normal   \n",
       "8844                     2  17.633553  17.634146  4.999863       0   Normal   \n",
       "10110                   18   0.000000   0.399866  0.000000       0   Normal   \n",
       "16479                    2   0.000000   0.000000  0.000000       0   Normal   \n",
       "...                    ...        ...        ...       ...     ...      ...   \n",
       "2896922                  1   0.000000   0.000000  0.278547       0   Normal   \n",
       "2907572                  3   0.000000   0.000000  0.000000       0   Normal   \n",
       "2912220                  4   0.555538   0.644334  0.808025       0   Normal   \n",
       "2917520                 15   0.000000   0.000000  0.007598       0   Normal   \n",
       "2932908                  8   0.000000   0.399842  0.000000       0   Normal   \n",
       "\n",
       "        subcategory         target  \n",
       "3377         Normal  Normal_Normal  \n",
       "7683         Normal  Normal_Normal  \n",
       "8844         Normal  Normal_Normal  \n",
       "10110        Normal  Normal_Normal  \n",
       "16479        Normal  Normal_Normal  \n",
       "...             ...            ...  \n",
       "2896922      Normal  Normal_Normal  \n",
       "2907572      Normal  Normal_Normal  \n",
       "2912220      Normal  Normal_Normal  \n",
       "2917520      Normal  Normal_Normal  \n",
       "2932908      Normal  Normal_Normal  \n",
       "\n",
       "[370 rows x 18 columns]"
      ]
     },
     "execution_count": 15,
     "metadata": {},
     "output_type": "execute_result"
    }
   ],
   "source": [
    "data_train[data_train['category']=='Normal']"
   ]
  },
  {
   "cell_type": "code",
   "execution_count": 16,
   "metadata": {},
   "outputs": [
    {
     "data": {
      "text/plain": [
       "0x0303    7156\n",
       "80        3220\n",
       "1822       878\n",
       "60541      869\n",
       "1216       868\n",
       "          ... \n",
       "32047       31\n",
       "18992       30\n",
       "39305       30\n",
       "0x000d      10\n",
       "0x0011       8\n",
       "Name: sport, Length: 65541, dtype: int64"
      ]
     },
     "execution_count": 16,
     "metadata": {},
     "output_type": "execute_result"
    }
   ],
   "source": [
    "data_train['sport'].value_counts()"
   ]
  },
  {
   "cell_type": "code",
   "execution_count": 17,
   "metadata": {},
   "outputs": [],
   "source": [
    "check='0x'\n",
    "s_res = set([i for i in data_train['sport'] if i.startswith(check)])\n",
    "\n",
    "data_train['sport']=data_train['sport'].replace(['0x0303'],'771') \n",
    "data_train['sport']=data_train['sport'].replace(['0x0011'],'17')\n",
    "data_train['sport']=data_train['sport'].replace(['0x000d'],'13')\n",
    "data_train['sport']=data_train['sport'].replace(['0x0008'],'8')\n",
    "\n",
    "data_test['sport']=data_test['sport'].replace(['0x0303'],'771') \n",
    "data_test['sport']=data_test['sport'].replace(['0x0011'],'17')\n",
    "data_test['sport']=data_test['sport'].replace(['0x000d'],'13')\n",
    "data_test['sport']=data_test['sport'].replace(['0x0008'],'8')"
   ]
  },
  {
   "cell_type": "code",
   "execution_count": 18,
   "metadata": {},
   "outputs": [],
   "source": [
    "data_train[\"sport\"] = data_train[\"sport\"].astype(str).astype(int)\n",
    "data_test[\"sport\"] = data_test[\"sport\"].astype(str).astype(int)"
   ]
  },
  {
   "cell_type": "code",
   "execution_count": 19,
   "metadata": {},
   "outputs": [
    {
     "name": "stdout",
     "output_type": "stream",
     "text": [
      "1062\n"
     ]
    }
   ],
   "source": [
    "check='0x'\n",
    "d_res = set([i for i in data_train['dport'] if i.startswith(check)])\n",
    "print(len(d_res))"
   ]
  },
  {
   "cell_type": "code",
   "execution_count": 20,
   "metadata": {},
   "outputs": [],
   "source": [
    "data_train[\"dport\"] = data_train[\"dport\"].apply(lambda x: int(x,16) if len(x)>1 and x[1]==\"x\" else int(x))\n",
    "data_test[\"dport\"] = data_test[\"dport\"].apply(lambda x: int(x,16) if len(x)>1 and x[1]==\"x\" else int(x))"
   ]
  },
  {
   "cell_type": "code",
   "execution_count": 21,
   "metadata": {},
   "outputs": [
    {
     "data": {
      "text/plain": [
       " 80       2858794\n",
       " 1           5379\n",
       " 3306        3757\n",
       " 53           275\n",
       "-1            163\n",
       "           ...   \n",
       " 13445          1\n",
       " 6636           1\n",
       " 29153          1\n",
       " 29152          1\n",
       " 8863           1\n",
       "Name: dport, Length: 6778, dtype: int64"
      ]
     },
     "execution_count": 21,
     "metadata": {},
     "output_type": "execute_result"
    }
   ],
   "source": [
    "data_train['dport'].value_counts()"
   ]
  },
  {
   "cell_type": "code",
   "execution_count": 22,
   "metadata": {},
   "outputs": [
    {
     "data": {
      "text/plain": [
       "163"
      ]
     },
     "execution_count": 22,
     "metadata": {},
     "output_type": "execute_result"
    }
   ],
   "source": [
    "len(data_train[data_train['dport']<0]['dport'])"
   ]
  },
  {
   "cell_type": "code",
   "execution_count": 23,
   "metadata": {},
   "outputs": [
    {
     "data": {
      "text/plain": [
       "Normal_Normal                    38\n",
       "Reconnaissance_Service_Scan      34\n",
       "Reconnaissance_OS_Fingerprint    26\n",
       "DoS_UDP                          18\n",
       "DoS_TCP                          17\n",
       "DDoS_TCP                         15\n",
       "DDoS_UDP                         10\n",
       "DoS_HTTP                          5\n",
       "Name: target, dtype: int64"
      ]
     },
     "execution_count": 23,
     "metadata": {},
     "output_type": "execute_result"
    }
   ],
   "source": [
    "data_train[data_train['dport']==-1]['target'].value_counts()"
   ]
  },
  {
   "cell_type": "code",
   "execution_count": 24,
   "metadata": {},
   "outputs": [],
   "source": [
    "#Since dport can't be negative, we are dropping it\n",
    "indexNames = data_train[data_train['dport'] == -1].index\n",
    "data_train.drop(indexNames, inplace=True)"
   ]
  },
  {
   "cell_type": "code",
   "execution_count": 25,
   "metadata": {},
   "outputs": [
    {
     "data": {
      "text/plain": [
       "Reconnaissance_Service_Scan      12\n",
       "Normal_Normal                     9\n",
       "DDoS_UDP                          6\n",
       "Reconnaissance_OS_Fingerprint     6\n",
       "DoS_UDP                           6\n",
       "DDoS_TCP                          3\n",
       "DoS_TCP                           2\n",
       "DDoS_HTTP                         1\n",
       "DoS_HTTP                          1\n",
       "Name: target, dtype: int64"
      ]
     },
     "execution_count": 25,
     "metadata": {},
     "output_type": "execute_result"
    }
   ],
   "source": [
    "data_test[data_test['dport']==-1]['target'].value_counts()"
   ]
  },
  {
   "cell_type": "code",
   "execution_count": 26,
   "metadata": {},
   "outputs": [],
   "source": [
    "indexNames = data_test[data_test['dport']==-1].index\n",
    "data_test.drop(indexNames , inplace=True)"
   ]
  },
  {
   "cell_type": "code",
   "execution_count": 27,
   "metadata": {},
   "outputs": [
    {
     "data": {
      "text/plain": [
       "category        subcategory   \n",
       "DDoS            TCP               782213\n",
       "                UDP               758291\n",
       "                HTTP                 786\n",
       "DoS             UDP               826331\n",
       "                TCP               492598\n",
       "                HTTP                1179\n",
       "Normal          Normal               332\n",
       "Reconnaissance  Service_Scan       58592\n",
       "                OS_Fingerprint     14267\n",
       "Name: subcategory, dtype: int64"
      ]
     },
     "execution_count": 27,
     "metadata": {},
     "output_type": "execute_result"
    }
   ],
   "source": [
    "data_train.groupby(['category'])['subcategory'].value_counts()"
   ]
  },
  {
   "cell_type": "code",
   "execution_count": 28,
   "metadata": {},
   "outputs": [
    {
     "data": {
      "text/plain": [
       "DoS_UDP                          826331\n",
       "DDoS_TCP                         782213\n",
       "DDoS_UDP                         758291\n",
       "DoS_TCP                          492598\n",
       "Reconnaissance_Service_Scan       58592\n",
       "Reconnaissance_OS_Fingerprint     14267\n",
       "DoS_HTTP                           1179\n",
       "DDoS_HTTP                           786\n",
       "Normal_Normal                       332\n",
       "Name: target, dtype: int64"
      ]
     },
     "execution_count": 28,
     "metadata": {},
     "output_type": "execute_result"
    }
   ],
   "source": [
    "data_train['target'].value_counts()"
   ]
  },
  {
   "cell_type": "code",
   "execution_count": 29,
   "metadata": {},
   "outputs": [
    {
     "data": {
      "text/plain": [
       "proto          object\n",
       "saddr          object\n",
       "daddr          object\n",
       "category       object\n",
       "subcategory    object\n",
       "target         object\n",
       "dtype: object"
      ]
     },
     "execution_count": 29,
     "metadata": {},
     "output_type": "execute_result"
    }
   ],
   "source": [
    "data_train.dtypes[data_train.dtypes=='object']"
   ]
  },
  {
   "cell_type": "code",
   "execution_count": 30,
   "metadata": {},
   "outputs": [],
   "source": [
    "data_train.drop([\"category\",\"subcategory\"], axis=1, inplace=True)\n",
    "data_test.drop([\"category\",\"subcategory\"], axis=1, inplace=True)"
   ]
  },
  {
   "cell_type": "markdown",
   "metadata": {},
   "source": [
    "### Encoding Categorical columns"
   ]
  },
  {
   "cell_type": "code",
   "execution_count": 31,
   "metadata": {},
   "outputs": [],
   "source": [
    "from sklearn.preprocessing import LabelEncoder\n",
    "le = LabelEncoder()\n",
    "data_train[\"saddr_enc\"]= le.fit_transform(data_train.saddr)\n",
    "data_train[\"daddr_enc\"]= le.fit_transform(data_train.daddr)\n",
    "data_train[\"proto_enc\"]= le.fit_transform(data_train.proto)\n",
    "data_train[\"target_enc\"]= le.fit_transform(data_train.target)"
   ]
  },
  {
   "cell_type": "code",
   "execution_count": 32,
   "metadata": {},
   "outputs": [
    {
     "data": {
      "text/html": [
       "<div>\n",
       "<style scoped>\n",
       "    .dataframe tbody tr th:only-of-type {\n",
       "        vertical-align: middle;\n",
       "    }\n",
       "\n",
       "    .dataframe tbody tr th {\n",
       "        vertical-align: top;\n",
       "    }\n",
       "\n",
       "    .dataframe thead th {\n",
       "        text-align: right;\n",
       "    }\n",
       "</style>\n",
       "<table border=\"1\" class=\"dataframe\">\n",
       "  <thead>\n",
       "    <tr style=\"text-align: right;\">\n",
       "      <th></th>\n",
       "      <th>proto</th>\n",
       "      <th>saddr</th>\n",
       "      <th>sport</th>\n",
       "      <th>daddr</th>\n",
       "      <th>dport</th>\n",
       "      <th>stddev</th>\n",
       "      <th>N_IN_Conn_P_SrcIP</th>\n",
       "      <th>min</th>\n",
       "      <th>state_number</th>\n",
       "      <th>mean</th>\n",
       "      <th>N_IN_Conn_P_DstIP</th>\n",
       "      <th>drate</th>\n",
       "      <th>srate</th>\n",
       "      <th>max</th>\n",
       "      <th>attack</th>\n",
       "      <th>target</th>\n",
       "      <th>saddr_enc</th>\n",
       "      <th>daddr_enc</th>\n",
       "      <th>proto_enc</th>\n",
       "      <th>target_enc</th>\n",
       "    </tr>\n",
       "  </thead>\n",
       "  <tbody>\n",
       "    <tr>\n",
       "      <th>0</th>\n",
       "      <td>udp</td>\n",
       "      <td>192.168.100.150</td>\n",
       "      <td>6551</td>\n",
       "      <td>192.168.100.3</td>\n",
       "      <td>80</td>\n",
       "      <td>1.900363</td>\n",
       "      <td>100</td>\n",
       "      <td>0.000000</td>\n",
       "      <td>4</td>\n",
       "      <td>2.687519</td>\n",
       "      <td>100</td>\n",
       "      <td>0.0</td>\n",
       "      <td>0.494549</td>\n",
       "      <td>4.031619</td>\n",
       "      <td>1</td>\n",
       "      <td>DDoS_UDP</td>\n",
       "      <td>3</td>\n",
       "      <td>14</td>\n",
       "      <td>3</td>\n",
       "      <td>2</td>\n",
       "    </tr>\n",
       "    <tr>\n",
       "      <th>1</th>\n",
       "      <td>tcp</td>\n",
       "      <td>192.168.100.150</td>\n",
       "      <td>5532</td>\n",
       "      <td>192.168.100.3</td>\n",
       "      <td>80</td>\n",
       "      <td>0.078003</td>\n",
       "      <td>38</td>\n",
       "      <td>3.856930</td>\n",
       "      <td>3</td>\n",
       "      <td>3.934927</td>\n",
       "      <td>100</td>\n",
       "      <td>0.0</td>\n",
       "      <td>0.256493</td>\n",
       "      <td>4.012924</td>\n",
       "      <td>1</td>\n",
       "      <td>DDoS_TCP</td>\n",
       "      <td>3</td>\n",
       "      <td>14</td>\n",
       "      <td>2</td>\n",
       "      <td>1</td>\n",
       "    </tr>\n",
       "    <tr>\n",
       "      <th>2</th>\n",
       "      <td>tcp</td>\n",
       "      <td>192.168.100.147</td>\n",
       "      <td>27165</td>\n",
       "      <td>192.168.100.3</td>\n",
       "      <td>80</td>\n",
       "      <td>0.268666</td>\n",
       "      <td>100</td>\n",
       "      <td>2.974100</td>\n",
       "      <td>3</td>\n",
       "      <td>3.341429</td>\n",
       "      <td>100</td>\n",
       "      <td>0.0</td>\n",
       "      <td>0.294880</td>\n",
       "      <td>3.609205</td>\n",
       "      <td>1</td>\n",
       "      <td>DDoS_TCP</td>\n",
       "      <td>0</td>\n",
       "      <td>14</td>\n",
       "      <td>2</td>\n",
       "      <td>1</td>\n",
       "    </tr>\n",
       "    <tr>\n",
       "      <th>3</th>\n",
       "      <td>udp</td>\n",
       "      <td>192.168.100.150</td>\n",
       "      <td>48719</td>\n",
       "      <td>192.168.100.3</td>\n",
       "      <td>80</td>\n",
       "      <td>1.823185</td>\n",
       "      <td>63</td>\n",
       "      <td>0.000000</td>\n",
       "      <td>4</td>\n",
       "      <td>3.222832</td>\n",
       "      <td>63</td>\n",
       "      <td>0.0</td>\n",
       "      <td>0.461435</td>\n",
       "      <td>4.942302</td>\n",
       "      <td>1</td>\n",
       "      <td>DoS_UDP</td>\n",
       "      <td>3</td>\n",
       "      <td>14</td>\n",
       "      <td>3</td>\n",
       "      <td>5</td>\n",
       "    </tr>\n",
       "    <tr>\n",
       "      <th>4</th>\n",
       "      <td>udp</td>\n",
       "      <td>192.168.100.147</td>\n",
       "      <td>22461</td>\n",
       "      <td>192.168.100.3</td>\n",
       "      <td>80</td>\n",
       "      <td>0.822418</td>\n",
       "      <td>100</td>\n",
       "      <td>2.979995</td>\n",
       "      <td>4</td>\n",
       "      <td>3.983222</td>\n",
       "      <td>100</td>\n",
       "      <td>0.0</td>\n",
       "      <td>1.002999</td>\n",
       "      <td>4.994452</td>\n",
       "      <td>1</td>\n",
       "      <td>DDoS_UDP</td>\n",
       "      <td>0</td>\n",
       "      <td>14</td>\n",
       "      <td>3</td>\n",
       "      <td>2</td>\n",
       "    </tr>\n",
       "  </tbody>\n",
       "</table>\n",
       "</div>"
      ],
      "text/plain": [
       "  proto            saddr  sport          daddr  dport    stddev  \\\n",
       "0   udp  192.168.100.150   6551  192.168.100.3     80  1.900363   \n",
       "1   tcp  192.168.100.150   5532  192.168.100.3     80  0.078003   \n",
       "2   tcp  192.168.100.147  27165  192.168.100.3     80  0.268666   \n",
       "3   udp  192.168.100.150  48719  192.168.100.3     80  1.823185   \n",
       "4   udp  192.168.100.147  22461  192.168.100.3     80  0.822418   \n",
       "\n",
       "   N_IN_Conn_P_SrcIP       min  state_number      mean  N_IN_Conn_P_DstIP  \\\n",
       "0                100  0.000000             4  2.687519                100   \n",
       "1                 38  3.856930             3  3.934927                100   \n",
       "2                100  2.974100             3  3.341429                100   \n",
       "3                 63  0.000000             4  3.222832                 63   \n",
       "4                100  2.979995             4  3.983222                100   \n",
       "\n",
       "   drate     srate       max  attack    target  saddr_enc  daddr_enc  \\\n",
       "0    0.0  0.494549  4.031619       1  DDoS_UDP          3         14   \n",
       "1    0.0  0.256493  4.012924       1  DDoS_TCP          3         14   \n",
       "2    0.0  0.294880  3.609205       1  DDoS_TCP          0         14   \n",
       "3    0.0  0.461435  4.942302       1   DoS_UDP          3         14   \n",
       "4    0.0  1.002999  4.994452       1  DDoS_UDP          0         14   \n",
       "\n",
       "   proto_enc  target_enc  \n",
       "0          3           2  \n",
       "1          2           1  \n",
       "2          2           1  \n",
       "3          3           5  \n",
       "4          3           2  "
      ]
     },
     "execution_count": 32,
     "metadata": {},
     "output_type": "execute_result"
    }
   ],
   "source": [
    "data_train.head()"
   ]
  },
  {
   "cell_type": "markdown",
   "metadata": {},
   "source": [
    "### Dropping Redundant Columns"
   ]
  },
  {
   "cell_type": "code",
   "execution_count": 33,
   "metadata": {},
   "outputs": [],
   "source": [
    "data_train.drop(['saddr','daddr','proto','target'], axis=1, inplace=True)"
   ]
  },
  {
   "cell_type": "code",
   "execution_count": 34,
   "metadata": {},
   "outputs": [],
   "source": [
    "data_test[\"saddr_enc\"]= le.fit_transform(data_test.saddr)\n",
    "data_test[\"daddr_enc\"]= le.fit_transform(data_test.daddr)\n",
    "data_test[\"proto_enc\"]= le.fit_transform(data_test.proto)\n",
    "data_test[\"target_enc\"]= le.fit_transform(data_test.target)\n",
    "data_test.drop(['saddr','daddr','proto','target'], axis=1, inplace=True)"
   ]
  },
  {
   "cell_type": "code",
   "execution_count": 35,
   "metadata": {},
   "outputs": [
    {
     "data": {
      "text/plain": [
       "5    826331\n",
       "1    782213\n",
       "2    758291\n",
       "4    492598\n",
       "8     58592\n",
       "7     14267\n",
       "3      1179\n",
       "0       786\n",
       "6       332\n",
       "Name: target_enc, dtype: int64"
      ]
     },
     "execution_count": 35,
     "metadata": {},
     "output_type": "execute_result"
    }
   ],
   "source": [
    "data_train['target_enc'].value_counts()"
   ]
  },
  {
   "cell_type": "markdown",
   "metadata": {},
   "source": [
    "### Scaling"
   ]
  },
  {
   "cell_type": "code",
   "execution_count": 36,
   "metadata": {},
   "outputs": [],
   "source": [
    "y = data_train['target_enc']"
   ]
  },
  {
   "cell_type": "code",
   "execution_count": 37,
   "metadata": {},
   "outputs": [],
   "source": [
    "from sklearn.preprocessing import StandardScaler\n",
    "scaler=StandardScaler()\n",
    "features = data_train.iloc[:,:-1]\n",
    "cols=features.columns\n",
    "scaled_features= scaler.fit_transform(features)\n",
    "data_train= pd.DataFrame(scaled_features,columns=cols)"
   ]
  },
  {
   "cell_type": "code",
   "execution_count": 38,
   "metadata": {},
   "outputs": [
    {
     "data": {
      "text/html": [
       "<div>\n",
       "<style scoped>\n",
       "    .dataframe tbody tr th:only-of-type {\n",
       "        vertical-align: middle;\n",
       "    }\n",
       "\n",
       "    .dataframe tbody tr th {\n",
       "        vertical-align: top;\n",
       "    }\n",
       "\n",
       "    .dataframe thead th {\n",
       "        text-align: right;\n",
       "    }\n",
       "</style>\n",
       "<table border=\"1\" class=\"dataframe\">\n",
       "  <thead>\n",
       "    <tr style=\"text-align: right;\">\n",
       "      <th></th>\n",
       "      <th>sport</th>\n",
       "      <th>dport</th>\n",
       "      <th>stddev</th>\n",
       "      <th>N_IN_Conn_P_SrcIP</th>\n",
       "      <th>min</th>\n",
       "      <th>state_number</th>\n",
       "      <th>mean</th>\n",
       "      <th>N_IN_Conn_P_DstIP</th>\n",
       "      <th>drate</th>\n",
       "      <th>srate</th>\n",
       "      <th>max</th>\n",
       "      <th>attack</th>\n",
       "      <th>saddr_enc</th>\n",
       "      <th>daddr_enc</th>\n",
       "      <th>proto_enc</th>\n",
       "    </tr>\n",
       "  </thead>\n",
       "  <tbody>\n",
       "    <tr>\n",
       "      <th>0</th>\n",
       "      <td>-1.380968</td>\n",
       "      <td>-0.094032</td>\n",
       "      <td>1.260943</td>\n",
       "      <td>0.715432</td>\n",
       "      <td>-0.685675</td>\n",
       "      <td>0.729274</td>\n",
       "      <td>0.301061</td>\n",
       "      <td>0.415148</td>\n",
       "      <td>-0.00763</td>\n",
       "      <td>-0.003355</td>\n",
       "      <td>0.543937</td>\n",
       "      <td>0.010637</td>\n",
       "      <td>1.302349</td>\n",
       "      <td>-0.643845</td>\n",
       "      <td>0.898098</td>\n",
       "    </tr>\n",
       "    <tr>\n",
       "      <th>1</th>\n",
       "      <td>-1.434281</td>\n",
       "      <td>-0.094032</td>\n",
       "      <td>-1.006704</td>\n",
       "      <td>-1.827146</td>\n",
       "      <td>1.914094</td>\n",
       "      <td>-0.113134</td>\n",
       "      <td>1.122958</td>\n",
       "      <td>0.415148</td>\n",
       "      <td>-0.00763</td>\n",
       "      <td>-0.003659</td>\n",
       "      <td>0.533890</td>\n",
       "      <td>0.010637</td>\n",
       "      <td>1.302349</td>\n",
       "      <td>-0.643845</td>\n",
       "      <td>-1.050938</td>\n",
       "    </tr>\n",
       "    <tr>\n",
       "      <th>2</th>\n",
       "      <td>-0.302458</td>\n",
       "      <td>-0.094032</td>\n",
       "      <td>-0.769453</td>\n",
       "      <td>0.715432</td>\n",
       "      <td>1.319021</td>\n",
       "      <td>-0.113134</td>\n",
       "      <td>0.731911</td>\n",
       "      <td>0.415148</td>\n",
       "      <td>-0.00763</td>\n",
       "      <td>-0.003610</td>\n",
       "      <td>0.316934</td>\n",
       "      <td>0.010637</td>\n",
       "      <td>-1.281797</td>\n",
       "      <td>-0.643845</td>\n",
       "      <td>-1.050938</td>\n",
       "    </tr>\n",
       "    <tr>\n",
       "      <th>3</th>\n",
       "      <td>0.825232</td>\n",
       "      <td>-0.094032</td>\n",
       "      <td>1.164907</td>\n",
       "      <td>-0.801913</td>\n",
       "      <td>-0.685675</td>\n",
       "      <td>0.729274</td>\n",
       "      <td>0.653770</td>\n",
       "      <td>-1.622798</td>\n",
       "      <td>-0.00763</td>\n",
       "      <td>-0.003397</td>\n",
       "      <td>1.033331</td>\n",
       "      <td>0.010637</td>\n",
       "      <td>1.302349</td>\n",
       "      <td>-0.643845</td>\n",
       "      <td>0.898098</td>\n",
       "    </tr>\n",
       "    <tr>\n",
       "      <th>4</th>\n",
       "      <td>-0.548568</td>\n",
       "      <td>-0.094032</td>\n",
       "      <td>-0.080394</td>\n",
       "      <td>0.715432</td>\n",
       "      <td>1.322995</td>\n",
       "      <td>0.729274</td>\n",
       "      <td>1.154778</td>\n",
       "      <td>0.415148</td>\n",
       "      <td>-0.00763</td>\n",
       "      <td>-0.002707</td>\n",
       "      <td>1.061356</td>\n",
       "      <td>0.010637</td>\n",
       "      <td>-1.281797</td>\n",
       "      <td>-0.643845</td>\n",
       "      <td>0.898098</td>\n",
       "    </tr>\n",
       "  </tbody>\n",
       "</table>\n",
       "</div>"
      ],
      "text/plain": [
       "      sport     dport    stddev  N_IN_Conn_P_SrcIP       min  state_number  \\\n",
       "0 -1.380968 -0.094032  1.260943           0.715432 -0.685675      0.729274   \n",
       "1 -1.434281 -0.094032 -1.006704          -1.827146  1.914094     -0.113134   \n",
       "2 -0.302458 -0.094032 -0.769453           0.715432  1.319021     -0.113134   \n",
       "3  0.825232 -0.094032  1.164907          -0.801913 -0.685675      0.729274   \n",
       "4 -0.548568 -0.094032 -0.080394           0.715432  1.322995      0.729274   \n",
       "\n",
       "       mean  N_IN_Conn_P_DstIP    drate     srate       max    attack  \\\n",
       "0  0.301061           0.415148 -0.00763 -0.003355  0.543937  0.010637   \n",
       "1  1.122958           0.415148 -0.00763 -0.003659  0.533890  0.010637   \n",
       "2  0.731911           0.415148 -0.00763 -0.003610  0.316934  0.010637   \n",
       "3  0.653770          -1.622798 -0.00763 -0.003397  1.033331  0.010637   \n",
       "4  1.154778           0.415148 -0.00763 -0.002707  1.061356  0.010637   \n",
       "\n",
       "   saddr_enc  daddr_enc  proto_enc  \n",
       "0   1.302349  -0.643845   0.898098  \n",
       "1   1.302349  -0.643845  -1.050938  \n",
       "2  -1.281797  -0.643845  -1.050938  \n",
       "3   1.302349  -0.643845   0.898098  \n",
       "4  -1.281797  -0.643845   0.898098  "
      ]
     },
     "execution_count": 38,
     "metadata": {},
     "output_type": "execute_result"
    }
   ],
   "source": [
    "data_train.head()"
   ]
  },
  {
   "cell_type": "code",
   "execution_count": 39,
   "metadata": {},
   "outputs": [],
   "source": [
    "ytest = data_test['target_enc']\n",
    "features = data_test.iloc[:,:-1]\n",
    "cols=features.columns\n",
    "scaled_features= scaler.fit_transform(features)\n",
    "data_test= pd.DataFrame(scaled_features,columns=cols)"
   ]
  },
  {
   "cell_type": "code",
   "execution_count": 40,
   "metadata": {},
   "outputs": [
    {
     "data": {
      "text/html": [
       "<div>\n",
       "<style scoped>\n",
       "    .dataframe tbody tr th:only-of-type {\n",
       "        vertical-align: middle;\n",
       "    }\n",
       "\n",
       "    .dataframe tbody tr th {\n",
       "        vertical-align: top;\n",
       "    }\n",
       "\n",
       "    .dataframe thead th {\n",
       "        text-align: right;\n",
       "    }\n",
       "</style>\n",
       "<table border=\"1\" class=\"dataframe\">\n",
       "  <thead>\n",
       "    <tr style=\"text-align: right;\">\n",
       "      <th></th>\n",
       "      <th>sport</th>\n",
       "      <th>dport</th>\n",
       "      <th>stddev</th>\n",
       "      <th>N_IN_Conn_P_SrcIP</th>\n",
       "      <th>min</th>\n",
       "      <th>state_number</th>\n",
       "      <th>mean</th>\n",
       "      <th>N_IN_Conn_P_DstIP</th>\n",
       "      <th>drate</th>\n",
       "      <th>srate</th>\n",
       "      <th>max</th>\n",
       "      <th>attack</th>\n",
       "      <th>saddr_enc</th>\n",
       "      <th>daddr_enc</th>\n",
       "      <th>proto_enc</th>\n",
       "    </tr>\n",
       "  </thead>\n",
       "  <tbody>\n",
       "    <tr>\n",
       "      <th>0</th>\n",
       "      <td>0.815980</td>\n",
       "      <td>-0.094347</td>\n",
       "      <td>-0.822350</td>\n",
       "      <td>0.716722</td>\n",
       "      <td>2.076170</td>\n",
       "      <td>0.728973</td>\n",
       "      <td>1.465443</td>\n",
       "      <td>0.415659</td>\n",
       "      <td>-0.006811</td>\n",
       "      <td>-0.004605</td>\n",
       "      <td>0.911656</td>\n",
       "      <td>0.011558</td>\n",
       "      <td>1.303394</td>\n",
       "      <td>-0.667508</td>\n",
       "      <td>0.896919</td>\n",
       "    </tr>\n",
       "    <tr>\n",
       "      <th>1</th>\n",
       "      <td>-0.556663</td>\n",
       "      <td>-0.094347</td>\n",
       "      <td>-0.542236</td>\n",
       "      <td>0.716722</td>\n",
       "      <td>1.630704</td>\n",
       "      <td>-1.799696</td>\n",
       "      <td>1.036313</td>\n",
       "      <td>0.415659</td>\n",
       "      <td>-0.003783</td>\n",
       "      <td>-0.004613</td>\n",
       "      <td>0.763047</td>\n",
       "      <td>0.011558</td>\n",
       "      <td>-0.422688</td>\n",
       "      <td>-0.667508</td>\n",
       "      <td>-1.051749</td>\n",
       "    </tr>\n",
       "    <tr>\n",
       "      <th>2</th>\n",
       "      <td>-0.223974</td>\n",
       "      <td>-0.094347</td>\n",
       "      <td>1.297989</td>\n",
       "      <td>-0.388902</td>\n",
       "      <td>-0.686481</td>\n",
       "      <td>0.728973</td>\n",
       "      <td>0.327939</td>\n",
       "      <td>0.415659</td>\n",
       "      <td>-0.006811</td>\n",
       "      <td>-0.004599</td>\n",
       "      <td>0.599406</td>\n",
       "      <td>0.011558</td>\n",
       "      <td>0.440353</td>\n",
       "      <td>-0.667508</td>\n",
       "      <td>0.896919</td>\n",
       "    </tr>\n",
       "    <tr>\n",
       "      <th>3</th>\n",
       "      <td>0.482664</td>\n",
       "      <td>-0.094347</td>\n",
       "      <td>-0.571091</td>\n",
       "      <td>-1.085035</td>\n",
       "      <td>1.517618</td>\n",
       "      <td>-1.799696</td>\n",
       "      <td>0.917867</td>\n",
       "      <td>0.415659</td>\n",
       "      <td>-0.006811</td>\n",
       "      <td>-0.004757</td>\n",
       "      <td>0.648446</td>\n",
       "      <td>0.011558</td>\n",
       "      <td>-0.422688</td>\n",
       "      <td>-0.667508</td>\n",
       "      <td>-1.051749</td>\n",
       "    </tr>\n",
       "    <tr>\n",
       "      <th>4</th>\n",
       "      <td>-1.635053</td>\n",
       "      <td>-0.094347</td>\n",
       "      <td>1.455734</td>\n",
       "      <td>0.716722</td>\n",
       "      <td>-0.686481</td>\n",
       "      <td>-0.113916</td>\n",
       "      <td>-0.688722</td>\n",
       "      <td>0.415659</td>\n",
       "      <td>-0.006811</td>\n",
       "      <td>-0.005272</td>\n",
       "      <td>0.930031</td>\n",
       "      <td>0.011558</td>\n",
       "      <td>0.440353</td>\n",
       "      <td>0.636049</td>\n",
       "      <td>-1.051749</td>\n",
       "    </tr>\n",
       "  </tbody>\n",
       "</table>\n",
       "</div>"
      ],
      "text/plain": [
       "      sport     dport    stddev  N_IN_Conn_P_SrcIP       min  state_number  \\\n",
       "0  0.815980 -0.094347 -0.822350           0.716722  2.076170      0.728973   \n",
       "1 -0.556663 -0.094347 -0.542236           0.716722  1.630704     -1.799696   \n",
       "2 -0.223974 -0.094347  1.297989          -0.388902 -0.686481      0.728973   \n",
       "3  0.482664 -0.094347 -0.571091          -1.085035  1.517618     -1.799696   \n",
       "4 -1.635053 -0.094347  1.455734           0.716722 -0.686481     -0.113916   \n",
       "\n",
       "       mean  N_IN_Conn_P_DstIP     drate     srate       max    attack  \\\n",
       "0  1.465443           0.415659 -0.006811 -0.004605  0.911656  0.011558   \n",
       "1  1.036313           0.415659 -0.003783 -0.004613  0.763047  0.011558   \n",
       "2  0.327939           0.415659 -0.006811 -0.004599  0.599406  0.011558   \n",
       "3  0.917867           0.415659 -0.006811 -0.004757  0.648446  0.011558   \n",
       "4 -0.688722           0.415659 -0.006811 -0.005272  0.930031  0.011558   \n",
       "\n",
       "   saddr_enc  daddr_enc  proto_enc  \n",
       "0   1.303394  -0.667508   0.896919  \n",
       "1  -0.422688  -0.667508  -1.051749  \n",
       "2   0.440353  -0.667508   0.896919  \n",
       "3  -0.422688  -0.667508  -1.051749  \n",
       "4   0.440353   0.636049  -1.051749  "
      ]
     },
     "execution_count": 40,
     "metadata": {},
     "output_type": "execute_result"
    }
   ],
   "source": [
    "data_test.head()"
   ]
  },
  {
   "cell_type": "code",
   "execution_count": 41,
   "metadata": {},
   "outputs": [
    {
     "data": {
      "text/plain": [
       "5    826331\n",
       "1    782213\n",
       "2    758291\n",
       "4    492598\n",
       "8     58592\n",
       "7     14267\n",
       "3      1179\n",
       "0       786\n",
       "6       332\n",
       "Name: target_enc, dtype: int64"
      ]
     },
     "execution_count": 41,
     "metadata": {},
     "output_type": "execute_result"
    }
   ],
   "source": [
    "y.value_counts()"
   ]
  },
  {
   "cell_type": "code",
   "execution_count": 42,
   "metadata": {},
   "outputs": [],
   "source": [
    "x = data_train\n",
    "xtest = data_test"
   ]
  },
  {
   "cell_type": "markdown",
   "metadata": {},
   "source": [
    "### Sampling"
   ]
  },
  {
   "cell_type": "code",
   "execution_count": 43,
   "metadata": {},
   "outputs": [],
   "source": [
    "import imblearn\n",
    "from imblearn.under_sampling import RandomUnderSampler\n",
    "samp_strat= {5:70000, 1:70000, 2:70000, 4:65000, 8:58592, 7:14267, 3:1179, 0:786, 6:332}\n",
    "random_under= RandomUnderSampler(sampling_strategy=samp_strat,random_state=1)\n",
    "X_rus,y_rus = random_under.fit_resample(x,y)"
   ]
  },
  {
   "cell_type": "code",
   "execution_count": 44,
   "metadata": {},
   "outputs": [
    {
     "data": {
      "text/plain": [
       "5    70000\n",
       "2    70000\n",
       "1    70000\n",
       "4    65000\n",
       "8    58592\n",
       "7    14267\n",
       "3     1179\n",
       "0      786\n",
       "6      332\n",
       "Name: target_enc, dtype: int64"
      ]
     },
     "execution_count": 44,
     "metadata": {},
     "output_type": "execute_result"
    }
   ],
   "source": [
    "pd.Series(y_rus).value_counts()"
   ]
  },
  {
   "cell_type": "code",
   "execution_count": 45,
   "metadata": {},
   "outputs": [],
   "source": [
    "from imblearn.over_sampling import RandomOverSampler\n",
    "samp_strat= {5:70000, 1:70000, 2:70000, 4:65000, 8:58592, 7:30000, 3:20000, 0:15000, 6:8000}\n",
    "random_under= RandomOverSampler(sampling_strategy=samp_strat,random_state=1)\n",
    "Xres,yres = random_under.fit_resample(X_rus,y_rus)"
   ]
  },
  {
   "cell_type": "code",
   "execution_count": 46,
   "metadata": {},
   "outputs": [
    {
     "data": {
      "text/plain": [
       "<matplotlib.axes._subplots.AxesSubplot at 0x26097c33a90>"
      ]
     },
     "execution_count": 46,
     "metadata": {},
     "output_type": "execute_result"
    },
    {
     "data": {
      "image/png": "[encoded data removed]",
      "text/plain": [
       "<Figure size 720x360 with 1 Axes>"
      ]
     },
     "metadata": {
      "needs_background": "light"
     },
     "output_type": "display_data"
    }
   ],
   "source": [
    "plt.figure(figsize=(10,5))\n",
    "sns.countplot(yres,palette='magma')"
   ]
  },
  {
   "cell_type": "markdown",
   "metadata": {},
   "source": [
    "## Decision Tree"
   ]
  },
  {
   "cell_type": "code",
   "execution_count": 47,
   "metadata": {},
   "outputs": [],
   "source": [
    "from sklearn import model_selection\n",
    "from sklearn.tree import DecisionTreeClassifier \n",
    "from sklearn.metrics import accuracy_score\n",
    "X_train, X_test, y_train, y_test = model_selection.train_test_split(Xres,yres, test_size=0.20)"
   ]
  },
  {
   "cell_type": "code",
   "execution_count": 48,
   "metadata": {},
   "outputs": [],
   "source": [
    "model_1 = DecisionTreeClassifier(max_depth=2)"
   ]
  },
  {
   "cell_type": "code",
   "execution_count": 49,
   "metadata": {},
   "outputs": [
    {
     "data": {
      "text/plain": [
       "DecisionTreeClassifier(max_depth=2)"
      ]
     },
     "execution_count": 49,
     "metadata": {},
     "output_type": "execute_result"
    }
   ],
   "source": [
    "model_1.fit(X_train, y_train)"
   ]
  },
  {
   "cell_type": "code",
   "execution_count": 50,
   "metadata": {},
   "outputs": [
    {
     "name": "stdout",
     "output_type": "stream",
     "text": [
      "Accuracy of base model:  0.5748472066798657\n"
     ]
    }
   ],
   "source": [
    "pred_1= model_1.predict(X_test)\n",
    "score1 = model_1.score(X_test, y_test)\n",
    "print(\"Accuracy of base model: \",score1)"
   ]
  },
  {
   "cell_type": "code",
   "execution_count": 51,
   "metadata": {},
   "outputs": [
    {
     "name": "stdout",
     "output_type": "stream",
     "text": [
      "Accuracy of test model:  0.6116609531858052\n"
     ]
    }
   ],
   "source": [
    "pred_2 = model_1.predict(xtest)\n",
    "score2 = model_1.score(xtest,ytest)\n",
    "print(\"Accuracy of test model: \",score2)"
   ]
  },
  {
   "cell_type": "code",
   "execution_count": 52,
   "metadata": {},
   "outputs": [
    {
     "data": {
      "text/plain": [
       "array([[[78245,     0],\n",
       "        [ 3074,     0]],\n",
       "\n",
       "       [[45654, 21756],\n",
       "        [   60, 13849]],\n",
       "\n",
       "       [[66056,  1235],\n",
       "        [ 1851, 12177]],\n",
       "\n",
       "       [[77346,     0],\n",
       "        [ 3973,     0]],\n",
       "\n",
       "       [[68339,     0],\n",
       "        [12980,     0]],\n",
       "\n",
       "       [[61844,  5557],\n",
       "        [ 1087, 12831]],\n",
       "\n",
       "       [[79659,     0],\n",
       "        [ 1660,     0]],\n",
       "\n",
       "       [[75234,     0],\n",
       "        [ 6085,     0]],\n",
       "\n",
       "       [[63602,  6025],\n",
       "        [ 3803,  7889]]], dtype=int64)"
      ]
     },
     "execution_count": 52,
     "metadata": {},
     "output_type": "execute_result"
    }
   ],
   "source": [
    "from sklearn.metrics import multilabel_confusion_matrix\n",
    "multilabel_confusion_matrix(y_test,pred_1)"
   ]
  },
  {
   "cell_type": "code",
   "execution_count": 54,
   "metadata": {},
   "outputs": [
    {
     "data": {
      "image/png": "[encoded data removed]",
      "text/plain": [
       "<Figure size 1800x1440 with 1 Axes>"
      ]
     },
     "metadata": {
      "needs_background": "light"
     },
     "output_type": "display_data"
    }
   ],
   "source": [
    "fig = plt.figure(figsize=(25,20))\n",
    "_ = tree.plot_tree(model_1, \n",
    "                   filled=True)"
   ]
  },
  {
   "cell_type": "code",
   "execution_count": 55,
   "metadata": {},
   "outputs": [],
   "source": [
    "fig.savefig(\"decistion_tree.png\")"
   ]
  },
  {
   "cell_type": "markdown",
   "metadata": {},
   "source": [
    "## Naive Bayes\n"
   ]
  },
  {
   "cell_type": "code",
   "execution_count": 56,
   "metadata": {},
   "outputs": [
    {
     "data": {
      "text/plain": [
       "GaussianNB()"
      ]
     },
     "execution_count": 56,
     "metadata": {},
     "output_type": "execute_result"
    }
   ],
   "source": [
    "from sklearn.naive_bayes import GaussianNB\n",
    "model_2 = GaussianNB()\n",
    "model_2.fit(X_train,y_train)"
   ]
  },
  {
   "cell_type": "code",
   "execution_count": 57,
   "metadata": {},
   "outputs": [
    {
     "name": "stdout",
     "output_type": "stream",
     "text": [
      "Accuracy score on test dataset :  57.484720667986565 %\n"
     ]
    }
   ],
   "source": [
    "from sklearn.metrics import accuracy_score\n",
    "predict_2 = model_1.predict(X_test)\n",
    "test_accuracy = accuracy_score(y_test, predict_2)\n",
    "print('Accuracy score on test dataset : ', test_accuracy*100,'%')"
   ]
  },
  {
   "cell_type": "code",
   "execution_count": 58,
   "metadata": {},
   "outputs": [
    {
     "data": {
      "text/plain": [
       "array([[    0,  3074,     0,     0,     0,     0,     0,     0,     0],\n",
       "       [    0, 13849,     0,     0,     0,     0,     0,     0,    60],\n",
       "       [    0,     0, 12177,     0,     0,  1850,     0,     0,     1],\n",
       "       [    0,  3973,     0,     0,     0,     0,     0,     0,     0],\n",
       "       [    0, 12969,     0,     0,     0,     0,     0,     0,    11],\n",
       "       [    0,     0,  1087,     0,     0, 12831,     0,     0,     0],\n",
       "       [    0,    88,   147,     0,     0,  1310,     0,     0,   115],\n",
       "       [    0,   236,     1,     0,     0,    10,     0,     0,  5838],\n",
       "       [    0,  1416,     0,     0,     0,  2387,     0,     0,  7889]],\n",
       "      dtype=int64)"
      ]
     },
     "execution_count": 58,
     "metadata": {},
     "output_type": "execute_result"
    }
   ],
   "source": [
    "from sklearn.metrics import confusion_matrix\n",
    "confusion_matrix(y_test,predict_2)"
   ]
  },
  {
   "cell_type": "code",
   "execution_count": 59,
   "metadata": {},
   "outputs": [
    {
     "name": "stdout",
     "output_type": "stream",
     "text": [
      "              precision    recall  f1-score   support\n",
      "\n",
      "           0       0.00      0.00      0.00      3074\n",
      "           1       0.39      1.00      0.56     13909\n",
      "           2       0.91      0.87      0.89     14028\n",
      "           3       0.00      0.00      0.00      3973\n",
      "           4       0.00      0.00      0.00     12980\n",
      "           5       0.70      0.92      0.79     13918\n",
      "           6       0.00      0.00      0.00      1660\n",
      "           7       0.00      0.00      0.00      6085\n",
      "           8       0.57      0.67      0.62     11692\n",
      "\n",
      "    accuracy                           0.57     81319\n",
      "   macro avg       0.28      0.38      0.32     81319\n",
      "weighted avg       0.42      0.57      0.47     81319\n",
      "\n"
     ]
    }
   ],
   "source": [
    "from sklearn.metrics import classification_report\n",
    "print(classification_report(y_test,predict_2))"
   ]
  },
  {
   "cell_type": "markdown",
   "metadata": {},
   "source": [
    "## Logistic Regression"
   ]
  },
  {
   "cell_type": "code",
   "execution_count": 61,
   "metadata": {},
   "outputs": [
    {
     "name": "stdout",
     "output_type": "stream",
     "text": [
      "189.04585933685303 seconds\n",
      "\n",
      "Accuracy of base model:  0.8729325249941589\n"
     ]
    }
   ],
   "source": [
    "import time\n",
    "start = time.time()\n",
    "from sklearn.linear_model import LogisticRegression\n",
    "model_3 = LogisticRegression(solver='liblinear')\n",
    "model_3.fit(X_train, y_train)\n",
    "pred_3 = model_3.predict(X_test)\n",
    "score3 = model_3.score(X_test, y_test)\n",
    "end = time.time()\n",
    "print(end - start, \"seconds\\n\")\n",
    "print(\"Accuracy of base model: \",score3)"
   ]
  },
  {
   "cell_type": "code",
   "execution_count": 62,
   "metadata": {},
   "outputs": [
    {
     "name": "stdout",
     "output_type": "stream",
     "text": [
      "Accuracy of test model:  0.9669458661886879\n"
     ]
    }
   ],
   "source": [
    "pred_3b = model_3.predict(xtest)\n",
    "score3b = model_3.score(xtest,ytest)\n",
    "print(\"Accuracy of test model: \",score3b)"
   ]
  },
  {
   "cell_type": "markdown",
   "metadata": {},
   "source": [
    "## KNN"
   ]
  },
  {
   "cell_type": "code",
   "execution_count": 63,
   "metadata": {},
   "outputs": [],
   "source": [
    "from sklearn.neighbors import KNeighborsClassifier\n",
    "model_4 = KNeighborsClassifier(n_neighbors = 30)"
   ]
  },
  {
   "cell_type": "code",
   "execution_count": 64,
   "metadata": {},
   "outputs": [
    {
     "name": "stdout",
     "output_type": "stream",
     "text": [
      "284.2364525794983 seconds\n",
      "\n"
     ]
    }
   ],
   "source": [
    "start = time.time()\n",
    "model_4.fit(X_train, y_train)\n",
    "end = time.time()\n",
    "print(end - start, \"seconds\\n\")"
   ]
  },
  {
   "cell_type": "code",
   "execution_count": 66,
   "metadata": {},
   "outputs": [
    {
     "name": "stdout",
     "output_type": "stream",
     "text": [
      "Accuracy score on test dataset :  98.59934332689777 %\n"
     ]
    }
   ],
   "source": [
    "Y_pred_4 = model_4.predict(X_test) \n",
    "test_accuracy_knn = accuracy_score(y_test, Y_pred_4)\n",
    "print('Accuracy score on test dataset : ', test_accuracy_knn*100,'%')"
   ]
  },
  {
   "cell_type": "code",
   "execution_count": 69,
   "metadata": {},
   "outputs": [
    {
     "name": "stdout",
     "output_type": "stream",
     "text": [
      "Confusion Matrix:\n",
      "[[ 3065     9     0     0     0     0     0     0     0]\n",
      " [   28 13752     0    10    88     0     0     7    24]\n",
      " [    0     0 14026     0     0     1     0     0     1]\n",
      " [    4     1     0  3960     8     0     0     0     0]\n",
      " [    1     5     0     1 12961     0     0     3     9]\n",
      " [    0     0     6     0     0 13912     0     0     0]\n",
      " [    0     0     0     0     0     0  1660     0     0]\n",
      " [    1     9     0    14     7     0     1  5873   180]\n",
      " [   23    55     0     7    36     0     0   600 10971]]\n"
     ]
    }
   ],
   "source": [
    "result = confusion_matrix(y_test, Y_pred_4)\n",
    "print(\"Confusion Matrix:\")\n",
    "print(result)"
   ]
  },
  {
   "cell_type": "code",
   "execution_count": 70,
   "metadata": {},
   "outputs": [
    {
     "name": "stdout",
     "output_type": "stream",
     "text": [
      "Classification Report:\n",
      "              precision    recall  f1-score   support\n",
      "\n",
      "           0       0.98      1.00      0.99      3074\n",
      "           1       0.99      0.99      0.99     13909\n",
      "           2       1.00      1.00      1.00     14028\n",
      "           3       0.99      1.00      0.99      3973\n",
      "           4       0.99      1.00      0.99     12980\n",
      "           5       1.00      1.00      1.00     13918\n",
      "           6       1.00      1.00      1.00      1660\n",
      "           7       0.91      0.97      0.93      6085\n",
      "           8       0.98      0.94      0.96     11692\n",
      "\n",
      "    accuracy                           0.99     81319\n",
      "   macro avg       0.98      0.99      0.98     81319\n",
      "weighted avg       0.99      0.99      0.99     81319\n",
      "\n"
     ]
    }
   ],
   "source": [
    "print(\"Classification Report:\",)\n",
    "print(classification_report(y_test, Y_pred_4))"
   ]
  },
  {
   "cell_type": "markdown",
   "metadata": {},
   "source": [
    "## Random Forest Classifier"
   ]
  },
  {
   "cell_type": "code",
   "execution_count": 72,
   "metadata": {},
   "outputs": [
    {
     "name": "stdout",
     "output_type": "stream",
     "text": [
      "Model accuracy score with 10 decision-trees : 0.999606488028628\n"
     ]
    }
   ],
   "source": [
    "from sklearn.ensemble import RandomForestClassifier\n",
    "# instantiate the classifier\n",
    "model_5 = RandomForestClassifier(n_estimators=10, criterion='entropy')\n",
    "# fit the model\n",
    "model_5.fit(X_train, y_train)\n",
    "# Predict the Test set results\n",
    "y_pred_5 = model_5.predict(X_test)\n",
    "# Importing library to check accuracy score\n",
    "from sklearn.metrics import accuracy_score\n",
    "# Print accuracy score\n",
    "print('Model accuracy score with 10 decision-trees :',format(accuracy_score(y_test,y_pred_5)))\n"
   ]
  },
  {
   "cell_type": "markdown",
   "metadata": {},
   "source": [
    "#### Therefore the accuracy of Random Forest Classifier is 99.9%"
   ]
  },
  {
   "cell_type": "code",
   "execution_count": 73,
   "metadata": {},
   "outputs": [
    {
     "name": "stdout",
     "output_type": "stream",
     "text": [
      "Confusion matrix:\n",
      "\n",
      " [[ 3074     0     0     0     0     0     0     0     0]\n",
      " [    0 13904     0     1     4     0     0     0     0]\n",
      " [    0     0 14028     0     0     0     0     0     0]\n",
      " [    0     0     0  3973     0     0     0     0     0]\n",
      " [    0     1     0     1 12978     0     0     0     0]\n",
      " [    0     0     0     0     0 13918     0     0     0]\n",
      " [    0     0     0     0     0     0  1660     0     0]\n",
      " [    0     0     0     0     0     0     0  6080     5]\n",
      " [    0     1     0     0     0     0     0    19 11672]]\n"
     ]
    }
   ],
   "source": [
    "from sklearn.metrics import confusion_matrix\n",
    "cm = confusion_matrix(y_test, y_pred_5)\n",
    "print('Confusion matrix:\\n\\n', cm)\n"
   ]
  },
  {
   "cell_type": "markdown",
   "metadata": {},
   "source": [
    "## Gradient Boost"
   ]
  },
  {
   "cell_type": "code",
   "execution_count": 75,
   "metadata": {},
   "outputs": [
    {
     "name": "stdout",
     "output_type": "stream",
     "text": [
      "[21:54:15] WARNING: C:/Users/Administrator/workspace/xgboost-win64_release_1.4.0/src/learner.cc:1095: Starting in XGBoost 1.3.0, the default evaluation metric used with the objective 'multi:softprob' was changed from 'merror' to 'mlogloss'. Explicitly set eval_metric if you'd like to restore the old behavior.\n",
      "Time taken:  153.73459196090698 seconds\n",
      "Accuracy of base model:  0.8729325249941589\n"
     ]
    }
   ],
   "source": [
    "import time\n",
    "start = time.time()\n",
    "\n",
    "from xgboost import XGBClassifier\n",
    "model_6 = XGBClassifier(random_state = 42)\n",
    "model_6.fit(X_train, y_train)\n",
    "pred_6 = model_1.predict(X_test)\n",
    "score_6 = model_1.score(X_test,y_test)\n",
    "\n",
    "end = time.time()\n",
    "\n",
    "print(\"Time taken: \",end - start, \"seconds\")\n",
    "print(\"Accuracy of base model: \",score_6)"
   ]
  },
  {
   "cell_type": "markdown",
   "metadata": {},
   "source": [
    "#### The accuracy of the Gradient Boost Model is 87.3%"
   ]
  },
  {
   "cell_type": "code",
   "execution_count": 76,
   "metadata": {},
   "outputs": [
    {
     "data": {
      "text/plain": [
       "4    14617\n",
       "2    14043\n",
       "1    14020\n",
       "5    13922\n",
       "8    11448\n",
       "7     6266\n",
       "0     2973\n",
       "3     2367\n",
       "6     1663\n",
       "dtype: int64"
      ]
     },
     "execution_count": 76,
     "metadata": {},
     "output_type": "execute_result"
    }
   ],
   "source": [
    "pd.Series(pred_1).value_counts()\n"
   ]
  },
  {
   "cell_type": "code",
   "execution_count": 81,
   "metadata": {},
   "outputs": [
    {
     "name": "stdout",
     "output_type": "stream",
     "text": [
      "              precision    recall  f1-score   support\n",
      "\n",
      "           0       0.60      0.58      0.59      3074\n",
      "           1       0.91      0.92      0.92     13909\n",
      "           2       1.00      1.00      1.00     14028\n",
      "           3       0.74      0.44      0.55      3973\n",
      "           4       0.86      0.97      0.91     12980\n",
      "           5       1.00      1.00      1.00     13918\n",
      "           6       1.00      1.00      1.00      1660\n",
      "           7       0.62      0.64      0.63      6085\n",
      "           8       0.75      0.74      0.74     11692\n",
      "\n",
      "    accuracy                           0.87     81319\n",
      "   macro avg       0.83      0.81      0.82     81319\n",
      "weighted avg       0.87      0.87      0.87     81319\n",
      "\n"
     ]
    }
   ],
   "source": [
    "from sklearn.metrics import classification_report,confusion_matrix, multilabel_confusion_matrix\n",
    "print(classification_report(y_test,pred_6))"
   ]
  },
  {
   "cell_type": "code",
   "execution_count": 78,
   "metadata": {},
   "outputs": [
    {
     "data": {
      "text/plain": [
       "array([[ 1784,   710,     0,   125,     0,     0,     0,     0,   455],\n",
       "       [  412, 12780,     0,    85,   388,     0,     2,     1,   241],\n",
       "       [    0,     0, 14027,     0,     0,     0,     1,     0,     0],\n",
       "       [  741,    66,     0,  1759,   882,     0,     0,   104,   421],\n",
       "       [    0,    43,     0,   366, 12560,     0,     0,     0,    11],\n",
       "       [    0,     0,     2,     0,     1, 13915,     0,     0,     0],\n",
       "       [    0,     0,     0,     0,     0,     0,  1660,     0,     0],\n",
       "       [    7,    73,     0,    19,   382,     7,     0,  3889,  1708],\n",
       "       [   29,   348,    14,    13,   404,     0,     0,  2272,  8612]],\n",
       "      dtype=int64)"
      ]
     },
     "execution_count": 78,
     "metadata": {},
     "output_type": "execute_result"
    }
   ],
   "source": [
    "confusion_matrix(y_test,pred_6)"
   ]
  },
  {
   "cell_type": "code",
   "execution_count": 79,
   "metadata": {},
   "outputs": [
    {
     "data": {
      "text/plain": [
       "array([[[77056,  1189],\n",
       "        [ 1290,  1784]],\n",
       "\n",
       "       [[66170,  1240],\n",
       "        [ 1129, 12780]],\n",
       "\n",
       "       [[67275,    16],\n",
       "        [    1, 14027]],\n",
       "\n",
       "       [[76738,   608],\n",
       "        [ 2214,  1759]],\n",
       "\n",
       "       [[66282,  2057],\n",
       "        [  420, 12560]],\n",
       "\n",
       "       [[67394,     7],\n",
       "        [    3, 13915]],\n",
       "\n",
       "       [[79656,     3],\n",
       "        [    0,  1660]],\n",
       "\n",
       "       [[72857,  2377],\n",
       "        [ 2196,  3889]],\n",
       "\n",
       "       [[66791,  2836],\n",
       "        [ 3080,  8612]]], dtype=int64)"
      ]
     },
     "execution_count": 79,
     "metadata": {},
     "output_type": "execute_result"
    }
   ],
   "source": [
    "multilabel_confusion_matrix(y_test,pred_6)"
   ]
  },
  {
   "cell_type": "code",
   "execution_count": null,
   "metadata": {},
   "outputs": [],
   "source": []
  }
 ],
 "metadata": {
  "kernelspec": {
   "display_name": "Python 3",
   "language": "python",
   "name": "python3"
  },
  "language_info": {
   "codemirror_mode": {
    "name": "ipython",
    "version": 3
   },
   "file_extension": ".py",
   "mimetype": "text/x-python",
   "name": "python",
   "nbconvert_exporter": "python",
   "pygments_lexer": "ipython3",
   "version": "3.8.2"
  }
 },
 "nbformat": 4,
 "nbformat_minor": 4
}
